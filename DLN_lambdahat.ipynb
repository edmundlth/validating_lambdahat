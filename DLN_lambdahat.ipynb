{
  "cells": [
    {
      "cell_type": "code",
      "execution_count": 1,
      "metadata": {
        "id": "q_dkp2eE7Hm6"
      },
      "outputs": [],
      "source": [
        "import haiku as hk\n",
        "import jax\n",
        "import jax.numpy as jnp\n",
        "import jax.tree_util as jtree\n",
        "\n",
        "import numpy as np\n",
        "import optax\n",
        "from typing import Sequence, NamedTuple\n",
        "import json\n",
        "\n",
        "import matplotlib.pyplot as plt\n",
        "import plotly.graph_objects as go\n",
        "\n",
        "import itertools"
      ]
    },
    {
      "cell_type": "markdown",
      "metadata": {
        "id": "_4-tywkh7UnE"
      },
      "source": [
        "---\n",
        "# Code\n",
        "---\n",
        "# Deep Linear Network"
      ]
    },
    {
      "cell_type": "code",
      "execution_count": 2,
      "metadata": {
        "id": "T_9isNZg7L97"
      },
      "outputs": [],
      "source": [
        "# Define the DLN model\n",
        "class DeepLinearNetwork(hk.Module):\n",
        "    def __init__(self, layer_widths: Sequence[int], name: str = None, with_bias=False):\n",
        "        super().__init__(name=name)\n",
        "        self.layer_widths = layer_widths\n",
        "        self.with_bias = with_bias\n",
        "\n",
        "    def __call__(self, x):\n",
        "        for width in self.layer_widths:\n",
        "            x = hk.Linear(width, with_bias=self.with_bias)(x)\n",
        "        return x\n",
        "\n",
        "# Function to initialize and apply the DLN model\n",
        "def forward_fn(x, layer_widths):\n",
        "    net = DeepLinearNetwork(layer_widths)\n",
        "    return net(x)\n",
        "\n",
        "# Create a Haiku-transformed version of the model\n",
        "def create_model(layer_widths):\n",
        "    model = hk.without_apply_rng(hk.transform(lambda x: forward_fn(x, layer_widths)))\n",
        "    return model\n",
        "\n",
        "\n",
        "def generate_training_data(true_param, model, input_dim, num_samples):\n",
        "    # Generate random inputs\n",
        "    inputs = np.random.uniform(-10, 10, size=(num_samples, input_dim))\n",
        "\n",
        "    # Apply the true model to generate outputs\n",
        "    true_outputs = model.apply(true_param, inputs)\n",
        "\n",
        "    return inputs, true_outputs\n",
        "\n",
        "def mse_loss(param, model, inputs, targets):\n",
        "    predictions = model.apply(param, inputs)\n",
        "    return jnp.mean((predictions - targets) ** 2)\n",
        "\n",
        "\n",
        "def create_minibatches(inputs, targets, batch_size, shuffle=True):\n",
        "    assert len(inputs) == len(targets)\n",
        "    if shuffle:\n",
        "        indices = np.random.permutation(len(inputs))\n",
        "    else:\n",
        "        indices = np.arange(len(inputs))\n",
        "\n",
        "    for start_idx in range(0, len(inputs) - batch_size + 1, batch_size):\n",
        "        excerpt = indices[start_idx:start_idx + batch_size]\n",
        "        yield inputs[excerpt], targets[excerpt]\n"
      ]
    },
    {
      "cell_type": "markdown",
      "metadata": {},
      "source": [
        "## SGLD code"
      ]
    },
    {
      "cell_type": "code",
      "execution_count": 3,
      "metadata": {},
      "outputs": [],
      "source": [
        "\n",
        "class SGLDConfig(NamedTuple):\n",
        "  epsilon: float\n",
        "  gamma: float\n",
        "  num_steps: int\n",
        "\n",
        "def generate_rngkey_tree(key_or_seed, tree_or_treedef):\n",
        "    rngseq = hk.PRNGSequence(key_or_seed)\n",
        "    return jtree.tree_map(lambda _: next(rngseq), tree_or_treedef)\n",
        "\n",
        "def optim_sgld(epsilon, rngkey_or_seed):\n",
        "    @jax.jit\n",
        "    def sgld_delta(g, rngkey):\n",
        "        eta = jax.random.normal(rngkey, shape=g.shape) * jnp.sqrt(epsilon)\n",
        "        return -epsilon * g / 2 + eta\n",
        "\n",
        "    def init_fn(_):\n",
        "        return rngkey_or_seed\n",
        "\n",
        "    @jax.jit\n",
        "    def update_fn(grads, state):\n",
        "        rngkey, new_rngkey = jax.random.split(state)\n",
        "        rngkey_tree = generate_rngkey_tree(rngkey, grads)\n",
        "        updates = jax.tree_map(sgld_delta, grads, rngkey_tree)\n",
        "        return updates, new_rngkey\n",
        "    return optax.GradientTransformation(init_fn, update_fn)\n",
        "\n",
        "\n",
        "def create_local_logposterior(avgnegloglikelihood_fn, num_training_data, w_init, gamma, itemp):\n",
        "    def helper(x, y):\n",
        "        return jnp.sum((x - y)**2)\n",
        "\n",
        "    def _logprior_fn(w):\n",
        "        sqnorm = jax.tree_util.tree_map(helper, w, w_init)\n",
        "        return jax.tree_util.tree_reduce(lambda a,b: a + b, sqnorm)\n",
        "\n",
        "    def logprob(w, x, y):\n",
        "        loglike = -num_training_data * avgnegloglikelihood_fn(w, x, y)\n",
        "        logprior = -gamma / 2 * _logprior_fn(w)\n",
        "        return itemp * loglike + logprior\n",
        "    return logprob\n"
      ]
    },
    {
      "cell_type": "markdown",
      "metadata": {
        "id": "xDC6H3p37bdI"
      },
      "source": [
        "## Compute DLN true learning coefficients\n",
        "\n",
        "Reference:\n",
        "Aoyagi, Miki. 2023. “Consideration on the Learning Efficiency Of Multiple-Layered Neural Networks with Linear Units.” https://doi.org/10.2139/ssrn.4404877."
      ]
    },
    {
      "cell_type": "code",
      "execution_count": 4,
      "metadata": {
        "id": "oEgmhcM97Yla"
      },
      "outputs": [],
      "source": [
        "def true_dln_learning_coefficient(true_rank, layer_widths, input_dim, verbose=False):\n",
        "    M_list = np.array([input_dim] + list(layer_widths)) - true_rank\n",
        "    indices = brute_force_search_subset(M_list, early_return=verbose)\n",
        "    M_subset = M_list[indices]\n",
        "    if verbose:\n",
        "        print(f\"M_list: {M_list}, indices: {indices}, M_subset: {M_subset}\")\n",
        "    M_subset_sum = np.sum(M_subset)\n",
        "    ell = len(M_subset) - 1\n",
        "    M = np.ceil(M_subset_sum / ell)\n",
        "    a = M_subset_sum - (M - 1) * ell\n",
        "    output_dim = layer_widths[-1]\n",
        "\n",
        "    term1 = (-true_rank**2 + true_rank * (output_dim + input_dim)) / 2\n",
        "    term2 = a * (ell - a) / (4 * ell)\n",
        "    term3 = -ell * (ell - 1) / 4 * (M_subset_sum / ell)**2\n",
        "    term4 = 1 / 2 * np.sum([M_subset[i] * M_subset[j] for i in range(ell + 1) for j in range(i + 1, ell + 1)])\n",
        "    learning_coefficient = term1 + term2 + term3 + term4\n",
        "    return learning_coefficient\n",
        "\n",
        "def _condition(indices, intlist, verbose=False):\n",
        "    intlist = np.array(intlist)\n",
        "    ell = len(indices) - 1\n",
        "    subset = intlist[indices]\n",
        "    complement = intlist[[i for i in range(len(intlist)) if i not in indices]]\n",
        "    has_complement = len(complement) > 0\n",
        "    # print(indices, subset, complement)\n",
        "    if has_complement and not (np.max(subset) < np.min(complement)):\n",
        "        if verbose: print(f\"max(subset) = {np.max(subset)}, min(complement) = {np.min(complement)}\")\n",
        "        return False\n",
        "    if not (np.sum(subset) >= ell * np.max(subset)):\n",
        "        if verbose: print(f\"sum(subset) = {sum(subset)}, ell * max(subset) = {ell * np.max(subset)}\")\n",
        "        return False\n",
        "    if has_complement and not (np.sum(subset) < ell * np.min(complement)):\n",
        "        if verbose: print(f\"sum(subset) = {sum(subset)}, ell * min(complement) = {ell * np.min(complement)}\")\n",
        "        return False\n",
        "    return True\n",
        "\n",
        "\n",
        "def generate_indices_subsets(length):\n",
        "    indices = list(range(length))\n",
        "    for size in range(1, length + 1):\n",
        "        for subset in itertools.combinations(indices, size):\n",
        "            subset = np.array(subset)\n",
        "            yield subset\n",
        "\n",
        "\n",
        "def brute_force_search_subset(intlist, early_return=False):\n",
        "    candidates = []\n",
        "    for indices in generate_indices_subsets(len(intlist)):\n",
        "        if _condition(indices, intlist):\n",
        "            if early_return:\n",
        "                return indices\n",
        "            candidates.append(indices)\n",
        "    if len(candidates) == 0:\n",
        "        raise RuntimeError(\"No candidates\")\n",
        "    if len(candidates) > 1:\n",
        "        print(\"More than one candidate\")\n",
        "    return candidates[0]\n",
        "\n",
        "\n",
        "def to_float_or_list(x):\n",
        "    if isinstance(x, (float, int)):\n",
        "        return float(x)\n",
        "    elif isinstance(x, (list, tuple)):\n",
        "        return [float(el) for el in x]\n",
        "    elif hasattr(x, \"tolist\"):  # For JAX or numpy arrays\n",
        "        return x.tolist()\n",
        "    else:\n",
        "        raise ValueError(f\"Unsupported type {type(x)}\")\n",
        "\n",
        "def to_json_friendly_tree(tree):\n",
        "    return jtree.tree_map(to_float_or_list, tree)\n",
        "\n",
        "\n",
        "def reduce_matrix_rank(matrix, reduction):\n",
        "    \"\"\"\n",
        "    Reduce the rank of the matrix by 'reduction' amount.\n",
        "\n",
        "    :param matrix: Input matrix.\n",
        "    :param reduction: The amount by which the rank should be reduced.\n",
        "    :return: A matrix similar to the input but with reduced rank.\n",
        "    \"\"\"\n",
        "    U, S, Vh = np.linalg.svd(matrix, full_matrices=False)\n",
        "\n",
        "    # Reduce the number of non-zero singular values by 'reduction'\n",
        "    new_rank = max(len(S) - reduction, 0)\n",
        "    S[new_rank:] = 0\n",
        "\n",
        "    # Reconstruct the matrix with the reduced number of singular values\n",
        "    reduced_matrix = np.dot(U * S, Vh)\n",
        "    return reduced_matrix\n",
        "\n",
        "def rand_reduce_matrix_rank(matrix):\n",
        "    r = np.linalg.matrix_rank(matrix)\n",
        "    reduction = np.random.randint(0, max(1, r))\n",
        "    return reduce_matrix_rank(matrix, reduction)\n"
      ]
    },
    {
      "cell_type": "markdown",
      "metadata": {
        "id": "--W4ToGoHUYz"
      },
      "source": [
        "---\n",
        "# Experiments\n",
        "---\n",
        "## Initialising and training network"
      ]
    },
    {
      "cell_type": "code",
      "execution_count": 6,
      "metadata": {
        "colab": {
          "base_uri": "https://localhost:8080/"
        },
        "id": "m01sF49Z7XHC",
        "outputId": "ed6e524b-7fee-46d0-f099-ae91a6ac320c"
      },
      "outputs": [
        {
          "name": "stdout",
          "output_type": "stream",
          "text": [
            "x_train shape: (10000, 100), y_train shape: (10000, 186)\n",
            "Num param: 904432\n"
          ]
        },
        {
          "data": {
            "text/plain": [
              "{'deep_linear_network/linear': {'w': (100, 89)},\n",
              " 'deep_linear_network/linear_1': {'w': (89, 467)},\n",
              " 'deep_linear_network/linear_10': {'w': (342, 457)},\n",
              " 'deep_linear_network/linear_11': {'w': (457, 495)},\n",
              " 'deep_linear_network/linear_12': {'w': (495, 366)},\n",
              " 'deep_linear_network/linear_13': {'w': (366, 186)},\n",
              " 'deep_linear_network/linear_2': {'w': (467, 95)},\n",
              " 'deep_linear_network/linear_3': {'w': (95, 231)},\n",
              " 'deep_linear_network/linear_4': {'w': (231, 59)},\n",
              " 'deep_linear_network/linear_5': {'w': (59, 159)},\n",
              " 'deep_linear_network/linear_6': {'w': (159, 36)},\n",
              " 'deep_linear_network/linear_7': {'w': (36, 225)},\n",
              " 'deep_linear_network/linear_8': {'w': (225, 210)},\n",
              " 'deep_linear_network/linear_9': {'w': (210, 342)}}"
            ]
          },
          "execution_count": 6,
          "metadata": {},
          "output_type": "execute_result"
        }
      ],
      "source": [
        "\n",
        "# layer_widths = [20, 100, 20]\n",
        "layer_widths = [89, 467, 95, 231, 59, 159, 36, 225, 210, 342, 457, 495, 366, 186]\n",
        "input_dim = 100  # Dimension of the input\n",
        "num_training_data = 10000  # Number of training samples\n",
        "\n",
        "# Create the DLN model\n",
        "model = create_model(layer_widths)\n",
        "\n",
        "# Initialize the \"true\" model parameters\n",
        "rngkey = jax.random.PRNGKey(0)\n",
        "dummy_input = jnp.zeros((1, input_dim))\n",
        "rngkey, subkey = jax.random.split(rngkey)\n",
        "true_param = model.init(rngkey, dummy_input)\n",
        "\n",
        "# Generate training data\n",
        "x_train, y_train = generate_training_data(true_param, model, input_dim, num_training_data)\n",
        "print(f\"x_train shape: {x_train.shape}, y_train shape: {y_train.shape}\")\n",
        "print(f\"Num param: {sum([np.prod(x.shape) for x in jtree.tree_leaves(true_param)])}\")\n",
        "jtree.tree_map(lambda x: x.shape, true_param)"
      ]
    },
    {
      "cell_type": "code",
      "execution_count": 7,
      "metadata": {
        "colab": {
          "base_uri": "https://localhost:8080/"
        },
        "id": "aWYRuFyS7bgE",
        "outputId": "4fe95db4-ba22-45f8-8706-0b71ed919b3f"
      },
      "outputs": [
        {
          "name": "stdout",
          "output_type": "stream",
          "text": [
            "Epoch 0, Loss: 0.31773048639297485\n"
          ]
        },
        {
          "ename": "KeyboardInterrupt",
          "evalue": "",
          "output_type": "error",
          "traceback": [
            "\u001b[0;31m---------------------------------------------------------------------------\u001b[0m",
            "\u001b[0;31mKeyboardInterrupt\u001b[0m                         Traceback (most recent call last)",
            "File \u001b[0;32m<timed exec>:16\u001b[0m\n",
            "\u001b[0;31mKeyboardInterrupt\u001b[0m: "
          ]
        }
      ],
      "source": [
        "%%time \n",
        "learning_rate = 0.01\n",
        "optimizer = optax.sgd(learning_rate, momentum=0.9)\n",
        "num_epochs = 100\n",
        "batch_size = 200\n",
        "\n",
        "rngkey, subkey = jax.random.split(rngkey)\n",
        "param = model.init(rngkey, jnp.zeros((1, input_dim)))\n",
        "opt_state = optimizer.init(param)\n",
        "\n",
        "loss_fn = jax.jit(lambda param, inputs, targets: mse_loss(param, model, inputs, targets))\n",
        "grad_fn = jax.jit(jax.grad(loss_fn, argnums=0))\n",
        "\n",
        "t = 0\n",
        "for epoch in range(num_epochs):\n",
        "    for x_batch, y_batch in create_minibatches(x_train, y_train, batch_size=batch_size):\n",
        "        grads = grad_fn(param, x_batch, y_batch)\n",
        "        updates, opt_state = optimizer.update(grads, opt_state)\n",
        "        param = optax.apply_updates(param, updates)\n",
        "        t += 1\n",
        "    if epoch % 10 == 0:\n",
        "        loss_val = mse_loss(param, model, x_train, y_train)\n",
        "        print(f\"Epoch {epoch}, Loss: {loss_val}\")\n",
        "\n",
        "trained_param = param\n",
        "print(f\"Num SGD steps: {t}\")"
      ]
    },
    {
      "cell_type": "markdown",
      "metadata": {},
      "source": [
        "## Hessian and functional rank"
      ]
    },
    {
      "cell_type": "code",
      "execution_count": 9,
      "metadata": {},
      "outputs": [
        {
          "data": {
            "application/vnd.plotly.v1+json": {
              "config": {
                "plotlyServerURL": "https://plot.ly"
              },
              "data": [
                {
                  "type": "histogram",
                  "x": [
                    -2.378945707093294e-9,
                    -2.3321149456023704e-9,
                    -2.118420328045545e-9,
                    -2.056417702789304e-9,
                    -1.894881807018578e-9,
                    -1.8562731352034234e-9,
                    -1.7885176673004821e-9,
                    -1.7038683797210297e-9,
                    -1.657148973599476e-9,
                    -1.6075145659044665e-9,
                    -1.5962471344721507e-9,
                    -1.496851420590417e-9,
                    -1.4622622002136154e-9,
                    -1.4440298956586162e-9,
                    -1.3991959812997834e-9,
                    -1.3816704447222605e-9,
                    -1.3337532189794388e-9,
                    -1.303214425263377e-9,
                    -1.280190509156398e-9,
                    -1.222986267812587e-9,
                    -1.2058365417288996e-9,
                    -1.1965138879688197e-9,
                    -1.150301187635705e-9,
                    -1.1304129854394773e-9,
                    -1.0907019731831724e-9,
                    -1.0443232945078762e-9,
                    -1.0130296601573718e-9,
                    -9.860771088554543e-10,
                    -9.647901366705014e-10,
                    -9.596372585463087e-10,
                    -9.466936123914138e-10,
                    -9.037063319894401e-10,
                    -8.939453621792381e-10,
                    -8.604899015551837e-10,
                    -8.512375249125625e-10,
                    -8.253839278715702e-10,
                    -7.956736935987863e-10,
                    -7.651142497344665e-10,
                    -7.598515705531383e-10,
                    -7.363343268451672e-10,
                    -7.20882908922249e-10,
                    -6.820614073532738e-10,
                    -6.666170948577133e-10,
                    -6.626998394487771e-10,
                    -6.369131333450184e-10,
                    -6.13246287084479e-10,
                    -5.988203266582559e-10,
                    -5.792905599655285e-10,
                    -5.59517154830047e-10,
                    -5.554576798516564e-10,
                    -5.468830388544177e-10,
                    -5.203155128974402e-10,
                    -5.130618152549005e-10,
                    -5.053872320637254e-10,
                    -4.93228624609543e-10,
                    -4.738127667991421e-10,
                    -4.6065157244257193e-10,
                    -4.566091948987605e-10,
                    -4.41924025151863e-10,
                    -4.253238594653652e-10,
                    -4.1601705413896184e-10,
                    -3.996100395031732e-10,
                    -3.89562271330135e-10,
                    -3.861800601523413e-10,
                    -3.738470921721415e-10,
                    -3.5832814493375054e-10,
                    -3.5077218907275665e-10,
                    -3.389861169544872e-10,
                    -3.2957561679758385e-10,
                    -3.189502550959844e-10,
                    -3.1078145612539743e-10,
                    -3.004191062583317e-10,
                    -2.948672694902399e-10,
                    -2.8137900343061517e-10,
                    -2.7501265154050714e-10,
                    -2.6700883171137946e-10,
                    -2.6161114941025687e-10,
                    -2.549417343900018e-10,
                    -2.432095913551535e-10,
                    -2.350058758704421e-10,
                    -2.2231284868556855e-10,
                    -2.1470553113189794e-10,
                    -2.078026639651398e-10,
                    -2.0120041743787453e-10,
                    -1.9433676889946128e-10,
                    -1.8124696188337452e-10,
                    -1.7924518813661194e-10,
                    -1.6418798265416257e-10,
                    -1.6381335177229062e-10,
                    -1.5017082022339423e-10,
                    -1.3981660273998386e-10,
                    -1.274646777016386e-10,
                    -1.234283647510992e-10,
                    -1.186499370975369e-10,
                    -1.1484150436169571e-10,
                    -1.001884408768916e-10,
                    -9.446343707253391e-11,
                    -9.303974257690584e-11,
                    -7.952138947331377e-11,
                    -7.373815447131449e-11,
                    -6.648616379667516e-11,
                    -6.159405624428516e-11,
                    -5.2307595754808034e-11,
                    -4.253245325380739e-11,
                    -3.287287456132937e-11,
                    -2.3342636851220178e-11,
                    -1.1547453965254917e-11,
                    -9.607673163991581e-12,
                    -2.4235513769454986e-12,
                    5.448600771951195e-12,
                    1.9353862262816435e-11,
                    2.1613896436512015e-11,
                    3.586225760798811e-11,
                    4.56107443480569e-11,
                    6.054286932899444e-11,
                    6.142057695779357e-11,
                    6.640248073619404e-11,
                    7.814391494997963e-11,
                    8.78920200508837e-11,
                    9.830482955441866e-11,
                    1.0843453912556811e-10,
                    1.1412457784354402e-10,
                    1.1893737383861236e-10,
                    1.2957433737081914e-10,
                    1.4258925984389492e-10,
                    1.5599056768511588e-10,
                    1.6064465035992015e-10,
                    1.7110785011098528e-10,
                    1.8749531094375271e-10,
                    1.9700754916307517e-10,
                    2.1053057908115846e-10,
                    2.1131714433852977e-10,
                    2.2248064501795284e-10,
                    2.3690316375279963e-10,
                    2.5441085349520165e-10,
                    2.5557908567286347e-10,
                    2.719205138834724e-10,
                    2.882493133071762e-10,
                    2.9321059469289423e-10,
                    2.9824853697846265e-10,
                    3.153000083244706e-10,
                    3.240178125807347e-10,
                    3.4207145449549614e-10,
                    3.517408309061665e-10,
                    3.652230184947314e-10,
                    4.029473699151964e-10,
                    4.08093253634334e-10,
                    4.2007114453568306e-10,
                    4.218485838425323e-10,
                    4.296824285265899e-10,
                    4.409100862190485e-10,
                    4.664512109897601e-10,
                    4.733914371612968e-10,
                    4.84900675168376e-10,
                    5.04967789805022e-10,
                    5.178405482197945e-10,
                    5.417130632956457e-10,
                    5.624719578989357e-10,
                    5.791574442248759e-10,
                    5.914020939634668e-10,
                    6.015088427346882e-10,
                    6.193041079960437e-10,
                    6.366459581741424e-10,
                    6.649891193255542e-10,
                    6.929624651874633e-10,
                    7.008749136616643e-10,
                    7.387928602220484e-10,
                    7.512820920929641e-10,
                    7.726337902802527e-10,
                    8.036989962434404e-10,
                    8.124300676648488e-10,
                    8.457758382540703e-10,
                    8.666501960519213e-10,
                    8.985525656868276e-10,
                    9.031135284054415e-10,
                    9.59039181402943e-10,
                    9.609820716960371e-10,
                    9.69735847178299e-10,
                    1.0011197426607055e-9,
                    1.0462261057497813e-9,
                    1.0588480092721397e-9,
                    1.0960162777351456e-9,
                    1.11459641516376e-9,
                    1.150062600707713e-9,
                    1.1976211133912784e-9,
                    1.2738010646273779e-9,
                    1.2944170180162473e-9,
                    1.364623414268351e-9,
                    1.3763339357097948e-9,
                    1.429262819208077e-9,
                    1.5344245873905038e-9,
                    1.586635267614156e-9,
                    1.6058359086912333e-9,
                    1.6906498423452376e-9,
                    1.890569034657119e-9,
                    2.2455375336960515e-9,
                    2.3021979878024013e-9,
                    2.4738480153274622e-9,
                    2.681022515105269e-9,
                    3.0176507959112087e-9,
                    2.7619347520158044e-7,
                    2.7619347520158044e-7,
                    2.7619350362328987e-7,
                    2.761935320449993e-7,
                    2.7619356046670873e-7,
                    2.761936173101276e-7,
                    2.761936173101276e-7,
                    2.7619367415354645e-7,
                    2.761937309969653e-7,
                    2.761937878403842e-7,
                    0.00003014708636328578,
                    0.00003014708636328578,
                    0.00003014708636328578,
                    0.00003014708636328578,
                    0.00003014708636328578,
                    0.00003014708636328578,
                    0.00003014708636328578,
                    0.00003014708636328578,
                    0.00003014708636328578,
                    0.00003014708636328578,
                    0.00007099228241713718,
                    0.00007099228241713718,
                    0.00007099228241713718,
                    0.00007099228241713718,
                    0.00007099228241713718,
                    0.00007099228241713718,
                    0.00007099228241713718,
                    0.00007099228241713718,
                    0.00007099228241713718,
                    0.00007099228241713718,
                    0.00011739022011170164,
                    0.0002518504043109715,
                    0.00028937411843799055,
                    0.00028937411843799055,
                    0.00028937411843799055,
                    0.00028937411843799055,
                    0.00028937411843799055,
                    0.00028937411843799055,
                    0.00028937411843799055,
                    0.00028937411843799055,
                    0.00028937411843799055,
                    0.00028937411843799055,
                    0.0003371259954292327,
                    0.000402115227188915,
                    0.0005072724889032543,
                    0.0006622295477427542,
                    0.0006948687369003892,
                    0.0008095283410511911,
                    0.000870336894877255,
                    0.0012364099966362119,
                    0.0014132172800600529,
                    0.0014812331646680832,
                    0.0019486284581944346,
                    0.0020578098483383656,
                    0.0020578098483383656,
                    0.0020578098483383656,
                    0.0020578098483383656,
                    0.0020578098483383656,
                    0.0020578098483383656,
                    0.0020578098483383656,
                    0.0020578098483383656,
                    0.0020578098483383656,
                    0.0020578098483383656,
                    0.0021132752299308777,
                    0.0024837576784193516,
                    0.002670132555067539,
                    0.0026912828907370567,
                    0.0028213919140398502,
                    0.0028213919140398502,
                    0.0028213919140398502,
                    0.0028213919140398502,
                    0.0028213919140398502,
                    0.0028213919140398502,
                    0.0028213919140398502,
                    0.0028213919140398502,
                    0.0028213919140398502,
                    0.0028213919140398502,
                    0.0032786699011921883,
                    0.0033724652603268623,
                    0.0034482264891266823,
                    0.0034482264891266823,
                    0.0034482264891266823,
                    0.0034482264891266823,
                    0.0034482264891266823,
                    0.0034482264891266823,
                    0.0034482264891266823,
                    0.0034482264891266823,
                    0.0034482264891266823,
                    0.0034482264891266823,
                    0.0035338737070560455,
                    0.003980120178312063,
                    0.00409316923469305,
                    0.004288959316909313,
                    0.004597388207912445,
                    0.004686163738369942,
                    0.005271900910884142,
                    0.005454955156892538,
                    0.005454955156892538,
                    0.005454955156892538,
                    0.005454955156892538,
                    0.005454955156892538,
                    0.005454955156892538,
                    0.005454955156892538,
                    0.005454955156892538,
                    0.005454955156892538,
                    0.005454955156892538,
                    0.005472257733345032,
                    0.006316926330327988,
                    0.0065318988636136055,
                    0.006746402010321617,
                    0.006865352857857943,
                    0.006896462757140398,
                    0.007770258001983166,
                    0.008444730192422867,
                    0.008444730192422867,
                    0.008444730192422867,
                    0.008444730192422867,
                    0.008444730192422867,
                    0.008444730192422867,
                    0.008444730192422867,
                    0.008444730192422867,
                    0.008444730192422867,
                    0.008444730192422867,
                    0.008731784299015999,
                    0.008991770446300507,
                    0.009366636164486408,
                    0.009564592503011227,
                    0.009627144783735275,
                    0.010507539846003056,
                    0.011038819327950478,
                    0.011514325626194477,
                    0.011651291511952877,
                    0.012030333280563354,
                    0.012273767031729221,
                    0.01276895310729742,
                    0.012823490425944328,
                    0.012988713569939137,
                    0.013915647752583027,
                    0.014673140831291676,
                    0.014838009141385555,
                    0.015438348054885864,
                    0.016529180109500885,
                    0.016779979690909386,
                    0.01758958026766777,
                    0.018540242686867714,
                    0.019346509128808975,
                    0.020056286826729774,
                    0.020393114537000656,
                    0.020553650334477425,
                    0.020553650334477425,
                    0.020553650334477425,
                    0.020553650334477425,
                    0.020553650334477425,
                    0.020553650334477425,
                    0.020553650334477425,
                    0.020553650334477425,
                    0.020553650334477425,
                    0.020553650334477425,
                    0.021740129217505455,
                    0.022150905802845955,
                    0.02217720076441765,
                    0.022396914660930634,
                    0.023196427151560783,
                    0.023961028084158897,
                    0.02420727163553238,
                    0.02436307817697525,
                    0.024938222020864487,
                    0.02674822136759758,
                    0.027781644836068153,
                    0.028297502547502518,
                    0.028395267203450203,
                    0.029146581888198853,
                    0.030344398692250252,
                    0.032209303230047226,
                    0.032958030700683594,
                    0.035508982837200165,
                    0.03572418913245201,
                    0.036411166191101074,
                    0.03753618150949478,
                    0.03826950863003731,
                    0.0392635203897953,
                    0.04056069254875183,
                    0.0409342385828495,
                    0.04147656261920929,
                    0.0417439304292202,
                    0.043268829584121704,
                    0.045776426792144775,
                    0.04693170636892319,
                    0.0479879304766655,
                    0.05046018585562706,
                    0.052789393812417984,
                    0.05468464270234108,
                    0.05977450683712959,
                    0.06122617796063423,
                    0.06642360240221024,
                    0.06822125613689423,
                    0.07367022335529327,
                    0.0754198208451271,
                    0.0878586620092392,
                    0.10977352410554886
                  ]
                }
              ],
              "layout": {
                "template": {
                  "data": {
                    "bar": [
                      {
                        "error_x": {
                          "color": "#2a3f5f"
                        },
                        "error_y": {
                          "color": "#2a3f5f"
                        },
                        "marker": {
                          "line": {
                            "color": "#E5ECF6",
                            "width": 0.5
                          },
                          "pattern": {
                            "fillmode": "overlay",
                            "size": 10,
                            "solidity": 0.2
                          }
                        },
                        "type": "bar"
                      }
                    ],
                    "barpolar": [
                      {
                        "marker": {
                          "line": {
                            "color": "#E5ECF6",
                            "width": 0.5
                          },
                          "pattern": {
                            "fillmode": "overlay",
                            "size": 10,
                            "solidity": 0.2
                          }
                        },
                        "type": "barpolar"
                      }
                    ],
                    "carpet": [
                      {
                        "aaxis": {
                          "endlinecolor": "#2a3f5f",
                          "gridcolor": "white",
                          "linecolor": "white",
                          "minorgridcolor": "white",
                          "startlinecolor": "#2a3f5f"
                        },
                        "baxis": {
                          "endlinecolor": "#2a3f5f",
                          "gridcolor": "white",
                          "linecolor": "white",
                          "minorgridcolor": "white",
                          "startlinecolor": "#2a3f5f"
                        },
                        "type": "carpet"
                      }
                    ],
                    "choropleth": [
                      {
                        "colorbar": {
                          "outlinewidth": 0,
                          "ticks": ""
                        },
                        "type": "choropleth"
                      }
                    ],
                    "contour": [
                      {
                        "colorbar": {
                          "outlinewidth": 0,
                          "ticks": ""
                        },
                        "colorscale": [
                          [
                            0,
                            "#0d0887"
                          ],
                          [
                            0.1111111111111111,
                            "#46039f"
                          ],
                          [
                            0.2222222222222222,
                            "#7201a8"
                          ],
                          [
                            0.3333333333333333,
                            "#9c179e"
                          ],
                          [
                            0.4444444444444444,
                            "#bd3786"
                          ],
                          [
                            0.5555555555555556,
                            "#d8576b"
                          ],
                          [
                            0.6666666666666666,
                            "#ed7953"
                          ],
                          [
                            0.7777777777777778,
                            "#fb9f3a"
                          ],
                          [
                            0.8888888888888888,
                            "#fdca26"
                          ],
                          [
                            1,
                            "#f0f921"
                          ]
                        ],
                        "type": "contour"
                      }
                    ],
                    "contourcarpet": [
                      {
                        "colorbar": {
                          "outlinewidth": 0,
                          "ticks": ""
                        },
                        "type": "contourcarpet"
                      }
                    ],
                    "heatmap": [
                      {
                        "colorbar": {
                          "outlinewidth": 0,
                          "ticks": ""
                        },
                        "colorscale": [
                          [
                            0,
                            "#0d0887"
                          ],
                          [
                            0.1111111111111111,
                            "#46039f"
                          ],
                          [
                            0.2222222222222222,
                            "#7201a8"
                          ],
                          [
                            0.3333333333333333,
                            "#9c179e"
                          ],
                          [
                            0.4444444444444444,
                            "#bd3786"
                          ],
                          [
                            0.5555555555555556,
                            "#d8576b"
                          ],
                          [
                            0.6666666666666666,
                            "#ed7953"
                          ],
                          [
                            0.7777777777777778,
                            "#fb9f3a"
                          ],
                          [
                            0.8888888888888888,
                            "#fdca26"
                          ],
                          [
                            1,
                            "#f0f921"
                          ]
                        ],
                        "type": "heatmap"
                      }
                    ],
                    "heatmapgl": [
                      {
                        "colorbar": {
                          "outlinewidth": 0,
                          "ticks": ""
                        },
                        "colorscale": [
                          [
                            0,
                            "#0d0887"
                          ],
                          [
                            0.1111111111111111,
                            "#46039f"
                          ],
                          [
                            0.2222222222222222,
                            "#7201a8"
                          ],
                          [
                            0.3333333333333333,
                            "#9c179e"
                          ],
                          [
                            0.4444444444444444,
                            "#bd3786"
                          ],
                          [
                            0.5555555555555556,
                            "#d8576b"
                          ],
                          [
                            0.6666666666666666,
                            "#ed7953"
                          ],
                          [
                            0.7777777777777778,
                            "#fb9f3a"
                          ],
                          [
                            0.8888888888888888,
                            "#fdca26"
                          ],
                          [
                            1,
                            "#f0f921"
                          ]
                        ],
                        "type": "heatmapgl"
                      }
                    ],
                    "histogram": [
                      {
                        "marker": {
                          "pattern": {
                            "fillmode": "overlay",
                            "size": 10,
                            "solidity": 0.2
                          }
                        },
                        "type": "histogram"
                      }
                    ],
                    "histogram2d": [
                      {
                        "colorbar": {
                          "outlinewidth": 0,
                          "ticks": ""
                        },
                        "colorscale": [
                          [
                            0,
                            "#0d0887"
                          ],
                          [
                            0.1111111111111111,
                            "#46039f"
                          ],
                          [
                            0.2222222222222222,
                            "#7201a8"
                          ],
                          [
                            0.3333333333333333,
                            "#9c179e"
                          ],
                          [
                            0.4444444444444444,
                            "#bd3786"
                          ],
                          [
                            0.5555555555555556,
                            "#d8576b"
                          ],
                          [
                            0.6666666666666666,
                            "#ed7953"
                          ],
                          [
                            0.7777777777777778,
                            "#fb9f3a"
                          ],
                          [
                            0.8888888888888888,
                            "#fdca26"
                          ],
                          [
                            1,
                            "#f0f921"
                          ]
                        ],
                        "type": "histogram2d"
                      }
                    ],
                    "histogram2dcontour": [
                      {
                        "colorbar": {
                          "outlinewidth": 0,
                          "ticks": ""
                        },
                        "colorscale": [
                          [
                            0,
                            "#0d0887"
                          ],
                          [
                            0.1111111111111111,
                            "#46039f"
                          ],
                          [
                            0.2222222222222222,
                            "#7201a8"
                          ],
                          [
                            0.3333333333333333,
                            "#9c179e"
                          ],
                          [
                            0.4444444444444444,
                            "#bd3786"
                          ],
                          [
                            0.5555555555555556,
                            "#d8576b"
                          ],
                          [
                            0.6666666666666666,
                            "#ed7953"
                          ],
                          [
                            0.7777777777777778,
                            "#fb9f3a"
                          ],
                          [
                            0.8888888888888888,
                            "#fdca26"
                          ],
                          [
                            1,
                            "#f0f921"
                          ]
                        ],
                        "type": "histogram2dcontour"
                      }
                    ],
                    "mesh3d": [
                      {
                        "colorbar": {
                          "outlinewidth": 0,
                          "ticks": ""
                        },
                        "type": "mesh3d"
                      }
                    ],
                    "parcoords": [
                      {
                        "line": {
                          "colorbar": {
                            "outlinewidth": 0,
                            "ticks": ""
                          }
                        },
                        "type": "parcoords"
                      }
                    ],
                    "pie": [
                      {
                        "automargin": true,
                        "type": "pie"
                      }
                    ],
                    "scatter": [
                      {
                        "fillpattern": {
                          "fillmode": "overlay",
                          "size": 10,
                          "solidity": 0.2
                        },
                        "type": "scatter"
                      }
                    ],
                    "scatter3d": [
                      {
                        "line": {
                          "colorbar": {
                            "outlinewidth": 0,
                            "ticks": ""
                          }
                        },
                        "marker": {
                          "colorbar": {
                            "outlinewidth": 0,
                            "ticks": ""
                          }
                        },
                        "type": "scatter3d"
                      }
                    ],
                    "scattercarpet": [
                      {
                        "marker": {
                          "colorbar": {
                            "outlinewidth": 0,
                            "ticks": ""
                          }
                        },
                        "type": "scattercarpet"
                      }
                    ],
                    "scattergeo": [
                      {
                        "marker": {
                          "colorbar": {
                            "outlinewidth": 0,
                            "ticks": ""
                          }
                        },
                        "type": "scattergeo"
                      }
                    ],
                    "scattergl": [
                      {
                        "marker": {
                          "colorbar": {
                            "outlinewidth": 0,
                            "ticks": ""
                          }
                        },
                        "type": "scattergl"
                      }
                    ],
                    "scattermapbox": [
                      {
                        "marker": {
                          "colorbar": {
                            "outlinewidth": 0,
                            "ticks": ""
                          }
                        },
                        "type": "scattermapbox"
                      }
                    ],
                    "scatterpolar": [
                      {
                        "marker": {
                          "colorbar": {
                            "outlinewidth": 0,
                            "ticks": ""
                          }
                        },
                        "type": "scatterpolar"
                      }
                    ],
                    "scatterpolargl": [
                      {
                        "marker": {
                          "colorbar": {
                            "outlinewidth": 0,
                            "ticks": ""
                          }
                        },
                        "type": "scatterpolargl"
                      }
                    ],
                    "scatterternary": [
                      {
                        "marker": {
                          "colorbar": {
                            "outlinewidth": 0,
                            "ticks": ""
                          }
                        },
                        "type": "scatterternary"
                      }
                    ],
                    "surface": [
                      {
                        "colorbar": {
                          "outlinewidth": 0,
                          "ticks": ""
                        },
                        "colorscale": [
                          [
                            0,
                            "#0d0887"
                          ],
                          [
                            0.1111111111111111,
                            "#46039f"
                          ],
                          [
                            0.2222222222222222,
                            "#7201a8"
                          ],
                          [
                            0.3333333333333333,
                            "#9c179e"
                          ],
                          [
                            0.4444444444444444,
                            "#bd3786"
                          ],
                          [
                            0.5555555555555556,
                            "#d8576b"
                          ],
                          [
                            0.6666666666666666,
                            "#ed7953"
                          ],
                          [
                            0.7777777777777778,
                            "#fb9f3a"
                          ],
                          [
                            0.8888888888888888,
                            "#fdca26"
                          ],
                          [
                            1,
                            "#f0f921"
                          ]
                        ],
                        "type": "surface"
                      }
                    ],
                    "table": [
                      {
                        "cells": {
                          "fill": {
                            "color": "#EBF0F8"
                          },
                          "line": {
                            "color": "white"
                          }
                        },
                        "header": {
                          "fill": {
                            "color": "#C8D4E3"
                          },
                          "line": {
                            "color": "white"
                          }
                        },
                        "type": "table"
                      }
                    ]
                  },
                  "layout": {
                    "annotationdefaults": {
                      "arrowcolor": "#2a3f5f",
                      "arrowhead": 0,
                      "arrowwidth": 1
                    },
                    "autotypenumbers": "strict",
                    "coloraxis": {
                      "colorbar": {
                        "outlinewidth": 0,
                        "ticks": ""
                      }
                    },
                    "colorscale": {
                      "diverging": [
                        [
                          0,
                          "#8e0152"
                        ],
                        [
                          0.1,
                          "#c51b7d"
                        ],
                        [
                          0.2,
                          "#de77ae"
                        ],
                        [
                          0.3,
                          "#f1b6da"
                        ],
                        [
                          0.4,
                          "#fde0ef"
                        ],
                        [
                          0.5,
                          "#f7f7f7"
                        ],
                        [
                          0.6,
                          "#e6f5d0"
                        ],
                        [
                          0.7,
                          "#b8e186"
                        ],
                        [
                          0.8,
                          "#7fbc41"
                        ],
                        [
                          0.9,
                          "#4d9221"
                        ],
                        [
                          1,
                          "#276419"
                        ]
                      ],
                      "sequential": [
                        [
                          0,
                          "#0d0887"
                        ],
                        [
                          0.1111111111111111,
                          "#46039f"
                        ],
                        [
                          0.2222222222222222,
                          "#7201a8"
                        ],
                        [
                          0.3333333333333333,
                          "#9c179e"
                        ],
                        [
                          0.4444444444444444,
                          "#bd3786"
                        ],
                        [
                          0.5555555555555556,
                          "#d8576b"
                        ],
                        [
                          0.6666666666666666,
                          "#ed7953"
                        ],
                        [
                          0.7777777777777778,
                          "#fb9f3a"
                        ],
                        [
                          0.8888888888888888,
                          "#fdca26"
                        ],
                        [
                          1,
                          "#f0f921"
                        ]
                      ],
                      "sequentialminus": [
                        [
                          0,
                          "#0d0887"
                        ],
                        [
                          0.1111111111111111,
                          "#46039f"
                        ],
                        [
                          0.2222222222222222,
                          "#7201a8"
                        ],
                        [
                          0.3333333333333333,
                          "#9c179e"
                        ],
                        [
                          0.4444444444444444,
                          "#bd3786"
                        ],
                        [
                          0.5555555555555556,
                          "#d8576b"
                        ],
                        [
                          0.6666666666666666,
                          "#ed7953"
                        ],
                        [
                          0.7777777777777778,
                          "#fb9f3a"
                        ],
                        [
                          0.8888888888888888,
                          "#fdca26"
                        ],
                        [
                          1,
                          "#f0f921"
                        ]
                      ]
                    },
                    "colorway": [
                      "#636efa",
                      "#EF553B",
                      "#00cc96",
                      "#ab63fa",
                      "#FFA15A",
                      "#19d3f3",
                      "#FF6692",
                      "#B6E880",
                      "#FF97FF",
                      "#FECB52"
                    ],
                    "font": {
                      "color": "#2a3f5f"
                    },
                    "geo": {
                      "bgcolor": "white",
                      "lakecolor": "white",
                      "landcolor": "#E5ECF6",
                      "showlakes": true,
                      "showland": true,
                      "subunitcolor": "white"
                    },
                    "hoverlabel": {
                      "align": "left"
                    },
                    "hovermode": "closest",
                    "mapbox": {
                      "style": "light"
                    },
                    "paper_bgcolor": "white",
                    "plot_bgcolor": "#E5ECF6",
                    "polar": {
                      "angularaxis": {
                        "gridcolor": "white",
                        "linecolor": "white",
                        "ticks": ""
                      },
                      "bgcolor": "#E5ECF6",
                      "radialaxis": {
                        "gridcolor": "white",
                        "linecolor": "white",
                        "ticks": ""
                      }
                    },
                    "scene": {
                      "xaxis": {
                        "backgroundcolor": "#E5ECF6",
                        "gridcolor": "white",
                        "gridwidth": 2,
                        "linecolor": "white",
                        "showbackground": true,
                        "ticks": "",
                        "zerolinecolor": "white"
                      },
                      "yaxis": {
                        "backgroundcolor": "#E5ECF6",
                        "gridcolor": "white",
                        "gridwidth": 2,
                        "linecolor": "white",
                        "showbackground": true,
                        "ticks": "",
                        "zerolinecolor": "white"
                      },
                      "zaxis": {
                        "backgroundcolor": "#E5ECF6",
                        "gridcolor": "white",
                        "gridwidth": 2,
                        "linecolor": "white",
                        "showbackground": true,
                        "ticks": "",
                        "zerolinecolor": "white"
                      }
                    },
                    "shapedefaults": {
                      "line": {
                        "color": "#2a3f5f"
                      }
                    },
                    "ternary": {
                      "aaxis": {
                        "gridcolor": "white",
                        "linecolor": "white",
                        "ticks": ""
                      },
                      "baxis": {
                        "gridcolor": "white",
                        "linecolor": "white",
                        "ticks": ""
                      },
                      "bgcolor": "#E5ECF6",
                      "caxis": {
                        "gridcolor": "white",
                        "linecolor": "white",
                        "ticks": ""
                      }
                    },
                    "title": {
                      "x": 0.05
                    },
                    "xaxis": {
                      "automargin": true,
                      "gridcolor": "white",
                      "linecolor": "white",
                      "ticks": "",
                      "title": {
                        "standoff": 15
                      },
                      "zerolinecolor": "white",
                      "zerolinewidth": 2
                    },
                    "yaxis": {
                      "automargin": true,
                      "gridcolor": "white",
                      "linecolor": "white",
                      "ticks": "",
                      "title": {
                        "standoff": 15
                      },
                      "zerolinecolor": "white",
                      "zerolinewidth": 2
                    }
                  }
                },
                "title": {
                  "text": "Histogram of Hessian Eigenvalues"
                },
                "xaxis": {
                  "title": {
                    "text": "Hessian Eigenvalues"
                  }
                },
                "yaxis": {
                  "title": {
                    "text": "Frequency"
                  },
                  "type": "log"
                }
              }
            }
          },
          "metadata": {},
          "output_type": "display_data"
        }
      ],
      "source": [
        "# Assuming the input distribution is sampled uniformly from the input ball, this\n",
        "# will be the average of the empirical loss\n",
        "def make_population_loss_fn2(true_param):\n",
        "    first_linear = true_param['deep_linear_network/linear']['w']\n",
        "    input_dim = first_linear.shape[0]\n",
        "    true_prod = np.eye(input_dim)\n",
        "    for p in true_param.values():\n",
        "        true_prod = true_prod @ p['w']\n",
        "        output_dim = p['w'].shape[1]\n",
        "    def population_loss(param):\n",
        "        prod = jnp.eye(input_dim)\n",
        "        for p in param.values():\n",
        "            prod = prod @ p['w']\n",
        "        Q = true_prod - prod\n",
        "        return jnp.sum(Q*Q) / ((input_dim+2) * output_dim)\n",
        "    return population_loss\n",
        "\n",
        "def pack_params(params):\n",
        "    params_flat, treedef = jax.tree_util.tree_flatten(params)\n",
        "    shapes = [p.shape for p in params_flat]\n",
        "    indices = np.cumsum([p.size for p in params_flat])\n",
        "    params_packed = jnp.concatenate([jnp.ravel(p) for p in params_flat])\n",
        "    pack_info = (treedef, shapes, indices)\n",
        "    return params_packed, pack_info\n",
        "\n",
        "def unpack_params(params_packed, pack_info):\n",
        "    treedef, shapes, indices = pack_info\n",
        "    params_split = jnp.split(params_packed, indices)\n",
        "    params_flat = [jnp.reshape(p, shape) for p, shape in zip(params_split, shapes)]\n",
        "    params = jax.tree_util.tree_unflatten(treedef, params_flat)\n",
        "    return params\n",
        "\n",
        "# Hessian\n",
        "true_param_packed, pack_info = pack_params(true_param)\n",
        "loss_fn = lambda p_packed: make_population_loss_fn2(true_param)(unpack_params(p_packed, pack_info))\n",
        "\n",
        "hessian = np.asarray(jax.hessian(loss_fn)(true_param_packed))\n",
        "eigvals = np.linalg.eigvalsh(hessian)\n",
        "fig = go.Figure(data=[go.Histogram(x=eigvals)])\n",
        "fig.update_layout(\n",
        "    title=\"Histogram of Hessian Eigenvalues\", \n",
        "    xaxis_title=\"Hessian Eigenvalues\", \n",
        "    yaxis_title=\"Frequency\", \n",
        "    yaxis_type=\"log\",\n",
        "    # xaxis_type=\"log\"\n",
        ")"
      ]
    },
    {
      "cell_type": "code",
      "execution_count": 13,
      "metadata": {},
      "outputs": [
        {
          "ename": "TypeError",
          "evalue": "jnp.linalg.svd requires ndarray or scalar arguments, got <class 'list'> at position 0.",
          "output_type": "error",
          "traceback": [
            "\u001b[0;31m---------------------------------------------------------------------------\u001b[0m",
            "\u001b[0;31mTypeError\u001b[0m                                 Traceback (most recent call last)",
            "Cell \u001b[0;32mIn[13], line 14\u001b[0m\n\u001b[1;32m     12\u001b[0m jacobian_fn \u001b[38;5;241m=\u001b[39m jax\u001b[38;5;241m.\u001b[39mjit(jax\u001b[38;5;241m.\u001b[39mjacrev(fn))\n\u001b[1;32m     13\u001b[0m jacobian_matrix \u001b[38;5;241m=\u001b[39m jacobian_fn(true_param_flat)\n\u001b[0;32m---> 14\u001b[0m svdvals \u001b[38;5;241m=\u001b[39m \u001b[43mjnp\u001b[49m\u001b[38;5;241;43m.\u001b[39;49m\u001b[43mlinalg\u001b[49m\u001b[38;5;241;43m.\u001b[39;49m\u001b[43msvd\u001b[49m\u001b[43m(\u001b[49m\u001b[43mjacobian_matrix\u001b[49m\u001b[43m,\u001b[49m\u001b[43m \u001b[49m\u001b[43mcompute_uv\u001b[49m\u001b[38;5;241;43m=\u001b[39;49m\u001b[38;5;28;43;01mFalse\u001b[39;49;00m\u001b[43m)\u001b[49m\n\u001b[1;32m     16\u001b[0m fig \u001b[38;5;241m=\u001b[39m go\u001b[38;5;241m.\u001b[39mFigure(data\u001b[38;5;241m=\u001b[39m[go\u001b[38;5;241m.\u001b[39mHistogram(x\u001b[38;5;241m=\u001b[39msvdvals)])\n\u001b[1;32m     17\u001b[0m fig\u001b[38;5;241m.\u001b[39mupdate_layout(\n\u001b[1;32m     18\u001b[0m     title\u001b[38;5;241m=\u001b[39m\u001b[38;5;124m\"\u001b[39m\u001b[38;5;124mHistogram of SVD Values\u001b[39m\u001b[38;5;124m\"\u001b[39m, \n\u001b[1;32m     19\u001b[0m     xaxis_title\u001b[38;5;241m=\u001b[39m\u001b[38;5;124m\"\u001b[39m\u001b[38;5;124mSingular Value\u001b[39m\u001b[38;5;124m\"\u001b[39m, \n\u001b[1;32m     20\u001b[0m     yaxis_title\u001b[38;5;241m=\u001b[39m\u001b[38;5;124m\"\u001b[39m\u001b[38;5;124mFrequency\u001b[39m\u001b[38;5;124m\"\u001b[39m, \n\u001b[1;32m     21\u001b[0m     yaxis_type\u001b[38;5;241m=\u001b[39m\u001b[38;5;124m\"\u001b[39m\u001b[38;5;124mlog\u001b[39m\u001b[38;5;124m\"\u001b[39m\n\u001b[1;32m     22\u001b[0m )\n",
            "    \u001b[0;31m[... skipping hidden 12 frame]\u001b[0m\n",
            "File \u001b[0;32m~/.local/share/virtualenvs/validating_lambdahat-UCObfUVw/lib/python3.11/site-packages/jax/_src/numpy/linalg.py:71\u001b[0m, in \u001b[0;36msvd\u001b[0;34m(a, full_matrices, compute_uv, hermitian)\u001b[0m\n\u001b[1;32m     67\u001b[0m \u001b[38;5;129m@_wraps\u001b[39m(np\u001b[38;5;241m.\u001b[39mlinalg\u001b[38;5;241m.\u001b[39msvd)\n\u001b[1;32m     68\u001b[0m \u001b[38;5;129m@partial\u001b[39m(jit, static_argnames\u001b[38;5;241m=\u001b[39m(\u001b[38;5;124m'\u001b[39m\u001b[38;5;124mfull_matrices\u001b[39m\u001b[38;5;124m'\u001b[39m, \u001b[38;5;124m'\u001b[39m\u001b[38;5;124mcompute_uv\u001b[39m\u001b[38;5;124m'\u001b[39m, \u001b[38;5;124m'\u001b[39m\u001b[38;5;124mhermitian\u001b[39m\u001b[38;5;124m'\u001b[39m))\n\u001b[1;32m     69\u001b[0m \u001b[38;5;28;01mdef\u001b[39;00m \u001b[38;5;21msvd\u001b[39m(a: ArrayLike, full_matrices: \u001b[38;5;28mbool\u001b[39m \u001b[38;5;241m=\u001b[39m \u001b[38;5;28;01mTrue\u001b[39;00m, compute_uv: \u001b[38;5;28mbool\u001b[39m \u001b[38;5;241m=\u001b[39m \u001b[38;5;28;01mTrue\u001b[39;00m,\n\u001b[1;32m     70\u001b[0m         hermitian: \u001b[38;5;28mbool\u001b[39m \u001b[38;5;241m=\u001b[39m \u001b[38;5;28;01mFalse\u001b[39;00m) \u001b[38;5;241m-\u001b[39m\u001b[38;5;241m>\u001b[39m Array \u001b[38;5;241m|\u001b[39m \u001b[38;5;28mtuple\u001b[39m[Array, Array, Array]:\n\u001b[0;32m---> 71\u001b[0m   \u001b[43mcheck_arraylike\u001b[49m\u001b[43m(\u001b[49m\u001b[38;5;124;43m\"\u001b[39;49m\u001b[38;5;124;43mjnp.linalg.svd\u001b[39;49m\u001b[38;5;124;43m\"\u001b[39;49m\u001b[43m,\u001b[49m\u001b[43m \u001b[49m\u001b[43ma\u001b[49m\u001b[43m)\u001b[49m\n\u001b[1;32m     72\u001b[0m   a, \u001b[38;5;241m=\u001b[39m promote_dtypes_inexact(jnp\u001b[38;5;241m.\u001b[39masarray(a))\n\u001b[1;32m     73\u001b[0m   \u001b[38;5;28;01mif\u001b[39;00m hermitian:\n",
            "File \u001b[0;32m~/.local/share/virtualenvs/validating_lambdahat-UCObfUVw/lib/python3.11/site-packages/jax/_src/numpy/util.py:335\u001b[0m, in \u001b[0;36mcheck_arraylike\u001b[0;34m(fun_name, emit_warning, stacklevel, *args)\u001b[0m\n\u001b[1;32m    332\u001b[0m   warnings\u001b[38;5;241m.\u001b[39mwarn(msg \u001b[38;5;241m+\u001b[39m \u001b[38;5;124m\"\u001b[39m\u001b[38;5;124m In a future JAX release this will be an error.\u001b[39m\u001b[38;5;124m\"\u001b[39m,\n\u001b[1;32m    333\u001b[0m                 category\u001b[38;5;241m=\u001b[39m\u001b[38;5;167;01mDeprecationWarning\u001b[39;00m, stacklevel\u001b[38;5;241m=\u001b[39mstacklevel)\n\u001b[1;32m    334\u001b[0m \u001b[38;5;28;01melse\u001b[39;00m:\n\u001b[0;32m--> 335\u001b[0m   \u001b[38;5;28;01mraise\u001b[39;00m \u001b[38;5;167;01mTypeError\u001b[39;00m(msg\u001b[38;5;241m.\u001b[39mformat(fun_name, \u001b[38;5;28mtype\u001b[39m(arg), pos))\n",
            "\u001b[0;31mTypeError\u001b[0m: jnp.linalg.svd requires ndarray or scalar arguments, got <class 'list'> at position 0."
          ]
        }
      ],
      "source": [
        "# n_small = 51\n",
        "# x_small, y_small = generate_training_data(true_param, model, input_dim, n_small)\n",
        "# fn = jax.jit(lambda param: model.apply(param, x_small))\n",
        "# jacobian_fn = jax.jit(jax.jacrev(fn))\n",
        "# jacobian_matrix = jnp.hstack([x.reshape(n_small * input_dim, -1) for x in jtree.tree_leaves(jacobian_fn(true_param))])\n",
        "# svdvals = jnp.linalg.svd(jacobian_matrix, compute_uv=False)\n",
        "\n",
        "def pack_params(params):\n",
        "    params_flat, treedef = jax.tree_util.tree_flatten(params)\n",
        "    shapes = [p.shape for p in params_flat]\n",
        "    indices = np.cumsum([p.size for p in params_flat])\n",
        "    params_packed = jnp.concatenate([jnp.ravel(p) for p in params_flat])\n",
        "    pack_info = (treedef, shapes, indices)\n",
        "    return params_packed, pack_info\n",
        "\n",
        "def unpack_params(params_packed, pack_info):\n",
        "    treedef, shapes, indices = pack_info\n",
        "    params_split = jnp.split(params_packed, indices)\n",
        "    params_flat = [jnp.reshape(p, shape) for p, shape in zip(params_split, shapes)]\n",
        "    params = jax.tree_util.tree_unflatten(treedef, params_flat)\n",
        "    return params\n",
        "\n",
        "n_small = 51\n",
        "threshold = 0.001\n",
        "x_small, y_small = generate_training_data(true_param, model, input_dim, n_small)\n",
        "true_param_flat, treedef = jtree.tree_flatten(true_param)\n",
        "fn = jax.jit(lambda param: model.apply(jtree.tree_unflatten(treedef, param), x_small))\n",
        "jacobian_fn = jax.jit(jax.jacrev(fn))\n",
        "jacobian_matrix = jacobian_fn(true_param_flat)\n",
        "svdvals = jnp.linalg.svd(jacobian_matrix, compute_uv=False)\n",
        "\n",
        "fig = go.Figure(data=[go.Histogram(x=svdvals)])\n",
        "fig.update_layout(\n",
        "    title=\"Histogram of SVD Values\", \n",
        "    xaxis_title=\"Singular Value\", \n",
        "    yaxis_title=\"Frequency\", \n",
        "    yaxis_type=\"log\"\n",
        ")\n",
        "print(np.sum(svdvals > 0.001))"
      ]
    },
    {
      "cell_type": "markdown",
      "metadata": {},
      "source": [
        "## SGLD on the true param"
      ]
    },
    {
      "cell_type": "code",
      "execution_count": 12,
      "metadata": {
        "colab": {
          "base_uri": "https://localhost:8080/",
          "height": 945
        },
        "id": "WEV7rqsL73yt",
        "outputId": "1fe2ba98-7186-48b9-fc8d-c4b124a50694"
      },
      "outputs": [
        {
          "name": "stdout",
          "output_type": "stream",
          "text": [
            "Step 200, nll: 1551.0682373046875\n",
            "Step 400, nll: 2810.329833984375\n",
            "Step 600, nll: 3881.985107421875\n",
            "Step 800, nll: 5040.2138671875\n",
            "Step 1000, nll: 5979.767578125\n"
          ]
        },
        {
          "data": {
            "text/plain": [
              "<matplotlib.collections.LineCollection at 0x297f30790>"
            ]
          },
          "execution_count": 12,
          "metadata": {},
          "output_type": "execute_result"
        },
        {
          "data": {
            "image/png": "[encoded data removed]",
            "text/plain": [
              "<Figure size 1000x500 with 1 Axes>"
            ]
          },
          "metadata": {},
          "output_type": "display_data"
        }
      ],
      "source": [
        "\n",
        "sgld_config = SGLDConfig(\n",
        "    epsilon=1e-6,\n",
        "    gamma=10.0,\n",
        "    num_steps=1000,\n",
        ")\n",
        "itemp = 1 / np.log(num_training_data)\n",
        "param_init = true_param\n",
        "\n",
        "local_logprob = create_local_logposterior(\n",
        "        avgnegloglikelihood_fn=loss_fn,\n",
        "        num_training_data=num_training_data,\n",
        "        w_init=param_init,\n",
        "        gamma=sgld_config.gamma,\n",
        "        itemp=itemp,\n",
        "    )\n",
        "sgld_grad_fn = jax.jit(jax.value_and_grad(lambda w, x, y: -local_logprob(w, x, y), argnums=0))\n",
        "\n",
        "\n",
        "rngkey, subkey = jax.random.split(rngkey)\n",
        "sgldoptim = optim_sgld(sgld_config.epsilon, rngkey)\n",
        "samples = []\n",
        "nlls = []\n",
        "opt_state = sgldoptim.init(param_init)\n",
        "param = param_init\n",
        "t = 0\n",
        "while t < sgld_config.num_steps:\n",
        "    for x_batch, y_batch in create_minibatches(x_train, y_train, batch_size=batch_size):\n",
        "        nll, grads = sgld_grad_fn(param, x_batch, y_batch)\n",
        "        nlls.append(float(nll))\n",
        "        updates, opt_state = sgldoptim.update(grads, opt_state)\n",
        "        param = optax.apply_updates(param, updates)\n",
        "        samples.append(param)\n",
        "        t += 1\n",
        "        if t % 200 == 0:\n",
        "            print(f\"Step {t}, nll: {nll}\")\n",
        "\n",
        "init_loss = loss_fn(param_init, x_train, y_train)\n",
        "loss_trace = [loss_fn(p, x_train, y_train) for p in samples]\n",
        "lambdahat = (np.mean(loss_trace) - init_loss) * num_training_data * itemp\n",
        "\n",
        "\n",
        "fig, ax = plt.subplots(1, 1, figsize=(10, 5))\n",
        "ax.plot(loss_trace)\n",
        "ax.set_title(\"$\\hat{\\lambda}$:\" + f\"{lambdahat:.3f}\")\n",
        "ax.set_xlabel(\"Iteration\")\n",
        "ax.set_ylabel(\"Loss\")\n",
        "xmin, xmax = ax.get_xlim()\n",
        "ax.hlines(init_loss, xmin, xmax, colors=\"r\", linestyles=\"dashed\")"
      ]
    },
    {
      "cell_type": "code",
      "execution_count": 13,
      "metadata": {
        "colab": {
          "base_uri": "https://localhost:8080/"
        },
        "id": "vsbVLhKUQTb7",
        "outputId": "b2f402ba-a789-4189-ed7f-3db154f7fc2d"
      },
      "outputs": [
        {
          "name": "stdout",
          "output_type": "stream",
          "text": [
            "M_list: [ 64  53 431  59 195  23 123   0 189 174 306 421 459 330 150], indices: [5 7], M_subset: [23  0]\n",
            "True matrix shape=(100, 186)\n",
            "Input dim: 100\n",
            "Layer widths: [89, 467, 95, 231, 59, 159, 36, 225, 210, 342, 457, 495, 366, 186]\n",
            "True lambda: 4500.0\n",
            "Estimated lambda: 1028.2181396484375\n"
          ]
        }
      ],
      "source": [
        "true_matrix = jnp.linalg.multi_dot(\n",
        "    [true_param[f'deep_linear_network/linear{loc}']['w'] for loc in [''] + [f'_{i}' for i in range(1, len(layer_widths))]]\n",
        ")\n",
        "true_rank = jnp.linalg.matrix_rank(true_matrix)\n",
        "true_lambda = true_dln_learning_coefficient(true_rank, layer_widths, input_dim, verbose=True)\n",
        "print(f\"True matrix shape={true_matrix.shape}\")\n",
        "print(f\"Input dim: {input_dim}\")\n",
        "print(f\"Layer widths: {layer_widths}\")\n",
        "print(f\"True lambda: {true_lambda}\")\n",
        "print(f\"Estimated lambda: {lambdahat}\")\n"
      ]
    },
    {
      "cell_type": "markdown",
      "metadata": {
        "id": "psNfz-QRHB7i"
      },
      "source": [
        "## Sweeping through different DLN + true parameter"
      ]
    },
    {
      "cell_type": "code",
      "execution_count": 28,
      "metadata": {
        "colab": {
          "base_uri": "https://localhost:8080/"
        },
        "id": "_yqWimU5HBct",
        "outputId": "7f88b108-bc7d-47bb-e3f8-5cf9565aa956"
      },
      "outputs": [
        {
          "name": "stdout",
          "output_type": "stream",
          "text": [
            "[]\n"
          ]
        },
        {
          "ename": "KeyboardInterrupt",
          "evalue": "",
          "output_type": "error",
          "traceback": [
            "\u001b[0;31m---------------------------------------------------------------------------\u001b[0m",
            "\u001b[0;31mKeyboardInterrupt\u001b[0m                         Traceback (most recent call last)",
            "Cell \u001b[0;32mIn[28], line 87\u001b[0m\n\u001b[1;32m     85\u001b[0m nlls\u001b[38;5;241m.\u001b[39mappend(\u001b[38;5;28mfloat\u001b[39m(nll))\n\u001b[1;32m     86\u001b[0m updates, opt_state \u001b[38;5;241m=\u001b[39m sgldoptim\u001b[38;5;241m.\u001b[39mupdate(grads, opt_state)\n\u001b[0;32m---> 87\u001b[0m param \u001b[38;5;241m=\u001b[39m \u001b[43moptax\u001b[49m\u001b[38;5;241;43m.\u001b[39;49m\u001b[43mapply_updates\u001b[49m\u001b[43m(\u001b[49m\u001b[43mparam\u001b[49m\u001b[43m,\u001b[49m\u001b[43m \u001b[49m\u001b[43mupdates\u001b[49m\u001b[43m)\u001b[49m\n\u001b[1;32m     88\u001b[0m loss_trace\u001b[38;5;241m.\u001b[39mappend(loss_fn(param, x_train, y_train))\n\u001b[1;32m     89\u001b[0m t \u001b[38;5;241m+\u001b[39m\u001b[38;5;241m=\u001b[39m \u001b[38;5;241m1\u001b[39m\n",
            "File \u001b[0;32m~/.local/share/virtualenvs/validating_lambdahat-UCObfUVw/lib/python3.11/site-packages/optax/_src/update.py:42\u001b[0m, in \u001b[0;36mapply_updates\u001b[0;34m(params, updates)\u001b[0m\n\u001b[1;32m     24\u001b[0m \u001b[38;5;28;01mdef\u001b[39;00m \u001b[38;5;21mapply_updates\u001b[39m(params: base\u001b[38;5;241m.\u001b[39mParams, updates: base\u001b[38;5;241m.\u001b[39mUpdates) \u001b[38;5;241m-\u001b[39m\u001b[38;5;241m>\u001b[39m base\u001b[38;5;241m.\u001b[39mParams:\n\u001b[1;32m     25\u001b[0m \u001b[38;5;250m  \u001b[39m\u001b[38;5;124;03m\"\"\"Applies an update to the corresponding parameters.\u001b[39;00m\n\u001b[1;32m     26\u001b[0m \n\u001b[1;32m     27\u001b[0m \u001b[38;5;124;03m  This is a utility functions that applies an update to a set of parameters, and\u001b[39;00m\n\u001b[0;32m   (...)\u001b[0m\n\u001b[1;32m     40\u001b[0m \u001b[38;5;124;03m    Updated parameters, with same structure, shape and type as `params`.\u001b[39;00m\n\u001b[1;32m     41\u001b[0m \u001b[38;5;124;03m  \"\"\"\u001b[39;00m\n\u001b[0;32m---> 42\u001b[0m   \u001b[38;5;28;01mreturn\u001b[39;00m \u001b[43mjax\u001b[49m\u001b[38;5;241;43m.\u001b[39;49m\u001b[43mtree_util\u001b[49m\u001b[38;5;241;43m.\u001b[39;49m\u001b[43mtree_map\u001b[49m\u001b[43m(\u001b[49m\n\u001b[1;32m     43\u001b[0m \u001b[43m      \u001b[49m\u001b[38;5;28;43;01mlambda\u001b[39;49;00m\u001b[43m \u001b[49m\u001b[43mp\u001b[49m\u001b[43m,\u001b[49m\u001b[43m \u001b[49m\u001b[43mu\u001b[49m\u001b[43m:\u001b[49m\u001b[43m \u001b[49m\u001b[43mjnp\u001b[49m\u001b[38;5;241;43m.\u001b[39;49m\u001b[43masarray\u001b[49m\u001b[43m(\u001b[49m\u001b[43mp\u001b[49m\u001b[43m \u001b[49m\u001b[38;5;241;43m+\u001b[39;49m\u001b[43m \u001b[49m\u001b[43mu\u001b[49m\u001b[43m)\u001b[49m\u001b[38;5;241;43m.\u001b[39;49m\u001b[43mastype\u001b[49m\u001b[43m(\u001b[49m\u001b[43mjnp\u001b[49m\u001b[38;5;241;43m.\u001b[39;49m\u001b[43masarray\u001b[49m\u001b[43m(\u001b[49m\u001b[43mp\u001b[49m\u001b[43m)\u001b[49m\u001b[38;5;241;43m.\u001b[39;49m\u001b[43mdtype\u001b[49m\u001b[43m)\u001b[49m\u001b[43m,\u001b[49m\n\u001b[1;32m     44\u001b[0m \u001b[43m      \u001b[49m\u001b[43mparams\u001b[49m\u001b[43m,\u001b[49m\u001b[43m \u001b[49m\u001b[43mupdates\u001b[49m\u001b[43m)\u001b[49m\n",
            "File \u001b[0;32m~/.local/share/virtualenvs/validating_lambdahat-UCObfUVw/lib/python3.11/site-packages/jax/_src/tree_util.py:244\u001b[0m, in \u001b[0;36mtree_map\u001b[0;34m(f, tree, is_leaf, *rest)\u001b[0m\n\u001b[1;32m    242\u001b[0m leaves, treedef \u001b[38;5;241m=\u001b[39m tree_flatten(tree, is_leaf)\n\u001b[1;32m    243\u001b[0m all_leaves \u001b[38;5;241m=\u001b[39m [leaves] \u001b[38;5;241m+\u001b[39m [treedef\u001b[38;5;241m.\u001b[39mflatten_up_to(r) \u001b[38;5;28;01mfor\u001b[39;00m r \u001b[38;5;129;01min\u001b[39;00m rest]\n\u001b[0;32m--> 244\u001b[0m \u001b[38;5;28;01mreturn\u001b[39;00m \u001b[43mtreedef\u001b[49m\u001b[38;5;241;43m.\u001b[39;49m\u001b[43munflatten\u001b[49m\u001b[43m(\u001b[49m\u001b[43mf\u001b[49m\u001b[43m(\u001b[49m\u001b[38;5;241;43m*\u001b[39;49m\u001b[43mxs\u001b[49m\u001b[43m)\u001b[49m\u001b[43m \u001b[49m\u001b[38;5;28;43;01mfor\u001b[39;49;00m\u001b[43m \u001b[49m\u001b[43mxs\u001b[49m\u001b[43m \u001b[49m\u001b[38;5;129;43;01min\u001b[39;49;00m\u001b[43m \u001b[49m\u001b[38;5;28;43mzip\u001b[39;49m\u001b[43m(\u001b[49m\u001b[38;5;241;43m*\u001b[39;49m\u001b[43mall_leaves\u001b[49m\u001b[43m)\u001b[49m\u001b[43m)\u001b[49m\n",
            "File \u001b[0;32m~/.local/share/virtualenvs/validating_lambdahat-UCObfUVw/lib/python3.11/site-packages/jax/_src/tree_util.py:244\u001b[0m, in \u001b[0;36m<genexpr>\u001b[0;34m(.0)\u001b[0m\n\u001b[1;32m    242\u001b[0m leaves, treedef \u001b[38;5;241m=\u001b[39m tree_flatten(tree, is_leaf)\n\u001b[1;32m    243\u001b[0m all_leaves \u001b[38;5;241m=\u001b[39m [leaves] \u001b[38;5;241m+\u001b[39m [treedef\u001b[38;5;241m.\u001b[39mflatten_up_to(r) \u001b[38;5;28;01mfor\u001b[39;00m r \u001b[38;5;129;01min\u001b[39;00m rest]\n\u001b[0;32m--> 244\u001b[0m \u001b[38;5;28;01mreturn\u001b[39;00m treedef\u001b[38;5;241m.\u001b[39munflatten(\u001b[43mf\u001b[49m\u001b[43m(\u001b[49m\u001b[38;5;241;43m*\u001b[39;49m\u001b[43mxs\u001b[49m\u001b[43m)\u001b[49m \u001b[38;5;28;01mfor\u001b[39;00m xs \u001b[38;5;129;01min\u001b[39;00m \u001b[38;5;28mzip\u001b[39m(\u001b[38;5;241m*\u001b[39mall_leaves))\n",
            "File \u001b[0;32m~/.local/share/virtualenvs/validating_lambdahat-UCObfUVw/lib/python3.11/site-packages/optax/_src/update.py:43\u001b[0m, in \u001b[0;36mapply_updates.<locals>.<lambda>\u001b[0;34m(p, u)\u001b[0m\n\u001b[1;32m     24\u001b[0m \u001b[38;5;28;01mdef\u001b[39;00m \u001b[38;5;21mapply_updates\u001b[39m(params: base\u001b[38;5;241m.\u001b[39mParams, updates: base\u001b[38;5;241m.\u001b[39mUpdates) \u001b[38;5;241m-\u001b[39m\u001b[38;5;241m>\u001b[39m base\u001b[38;5;241m.\u001b[39mParams:\n\u001b[1;32m     25\u001b[0m \u001b[38;5;250m  \u001b[39m\u001b[38;5;124;03m\"\"\"Applies an update to the corresponding parameters.\u001b[39;00m\n\u001b[1;32m     26\u001b[0m \n\u001b[1;32m     27\u001b[0m \u001b[38;5;124;03m  This is a utility functions that applies an update to a set of parameters, and\u001b[39;00m\n\u001b[0;32m   (...)\u001b[0m\n\u001b[1;32m     40\u001b[0m \u001b[38;5;124;03m    Updated parameters, with same structure, shape and type as `params`.\u001b[39;00m\n\u001b[1;32m     41\u001b[0m \u001b[38;5;124;03m  \"\"\"\u001b[39;00m\n\u001b[1;32m     42\u001b[0m   \u001b[38;5;28;01mreturn\u001b[39;00m jax\u001b[38;5;241m.\u001b[39mtree_util\u001b[38;5;241m.\u001b[39mtree_map(\n\u001b[0;32m---> 43\u001b[0m       \u001b[38;5;28;01mlambda\u001b[39;00m p, u: \u001b[43mjnp\u001b[49m\u001b[38;5;241;43m.\u001b[39;49m\u001b[43masarray\u001b[49m\u001b[43m(\u001b[49m\u001b[43mp\u001b[49m\u001b[43m \u001b[49m\u001b[38;5;241;43m+\u001b[39;49m\u001b[43m \u001b[49m\u001b[43mu\u001b[49m\u001b[43m)\u001b[49m\u001b[38;5;241m.\u001b[39mastype(jnp\u001b[38;5;241m.\u001b[39masarray(p)\u001b[38;5;241m.\u001b[39mdtype),\n\u001b[1;32m     44\u001b[0m       params, updates)\n",
            "File \u001b[0;32m~/.local/share/virtualenvs/validating_lambdahat-UCObfUVw/lib/python3.11/site-packages/jax/_src/numpy/lax_numpy.py:2201\u001b[0m, in \u001b[0;36masarray\u001b[0;34m(a, dtype, order)\u001b[0m\n\u001b[1;32m   2199\u001b[0m \u001b[38;5;28;01mif\u001b[39;00m dtype \u001b[38;5;129;01mis\u001b[39;00m \u001b[38;5;129;01mnot\u001b[39;00m \u001b[38;5;28;01mNone\u001b[39;00m:\n\u001b[1;32m   2200\u001b[0m   dtype \u001b[38;5;241m=\u001b[39m dtypes\u001b[38;5;241m.\u001b[39mcanonicalize_dtype(dtype, allow_extended_dtype\u001b[38;5;241m=\u001b[39m\u001b[38;5;28;01mTrue\u001b[39;00m)  \u001b[38;5;66;03m# type: ignore[assignment]\u001b[39;00m\n\u001b[0;32m-> 2201\u001b[0m \u001b[38;5;28;01mreturn\u001b[39;00m \u001b[43marray\u001b[49m\u001b[43m(\u001b[49m\u001b[43ma\u001b[49m\u001b[43m,\u001b[49m\u001b[43m \u001b[49m\u001b[43mdtype\u001b[49m\u001b[38;5;241;43m=\u001b[39;49m\u001b[43mdtype\u001b[49m\u001b[43m,\u001b[49m\u001b[43m \u001b[49m\u001b[43mcopy\u001b[49m\u001b[38;5;241;43m=\u001b[39;49m\u001b[38;5;28;43;01mFalse\u001b[39;49;00m\u001b[43m,\u001b[49m\u001b[43m \u001b[49m\u001b[43morder\u001b[49m\u001b[38;5;241;43m=\u001b[39;49m\u001b[43morder\u001b[49m\u001b[43m)\u001b[49m\n",
            "File \u001b[0;32m~/.local/share/virtualenvs/validating_lambdahat-UCObfUVw/lib/python3.11/site-packages/jax/_src/numpy/lax_numpy.py:2118\u001b[0m, in \u001b[0;36marray\u001b[0;34m(object, dtype, copy, order, ndmin)\u001b[0m\n\u001b[1;32m   2115\u001b[0m   \u001b[38;5;28mobject\u001b[39m \u001b[38;5;241m=\u001b[39m \u001b[38;5;28mobject\u001b[39m\u001b[38;5;241m.\u001b[39m__jax_array__()\n\u001b[1;32m   2116\u001b[0m \u001b[38;5;28mobject\u001b[39m \u001b[38;5;241m=\u001b[39m tree_map(\u001b[38;5;28;01mlambda\u001b[39;00m leaf: leaf\u001b[38;5;241m.\u001b[39m__jax_array__()\n\u001b[1;32m   2117\u001b[0m                   \u001b[38;5;28;01mif\u001b[39;00m \u001b[38;5;28mhasattr\u001b[39m(leaf, \u001b[38;5;124m\"\u001b[39m\u001b[38;5;124m__jax_array__\u001b[39m\u001b[38;5;124m\"\u001b[39m) \u001b[38;5;28;01melse\u001b[39;00m leaf, \u001b[38;5;28mobject\u001b[39m)\n\u001b[0;32m-> 2118\u001b[0m leaves \u001b[38;5;241m=\u001b[39m \u001b[43mtree_leaves\u001b[49m\u001b[43m(\u001b[49m\u001b[38;5;28;43mobject\u001b[39;49m\u001b[43m,\u001b[49m\u001b[43m \u001b[49m\u001b[43mis_leaf\u001b[49m\u001b[38;5;241;43m=\u001b[39;49m\u001b[38;5;28;43;01mlambda\u001b[39;49;00m\u001b[43m \u001b[49m\u001b[43mx\u001b[49m\u001b[43m:\u001b[49m\u001b[43m \u001b[49m\u001b[43mx\u001b[49m\u001b[43m \u001b[49m\u001b[38;5;129;43;01mis\u001b[39;49;00m\u001b[43m \u001b[49m\u001b[38;5;28;43;01mNone\u001b[39;49;00m\u001b[43m)\u001b[49m\n\u001b[1;32m   2119\u001b[0m \u001b[38;5;28;01mif\u001b[39;00m \u001b[38;5;28many\u001b[39m(leaf \u001b[38;5;129;01mis\u001b[39;00m \u001b[38;5;28;01mNone\u001b[39;00m \u001b[38;5;28;01mfor\u001b[39;00m leaf \u001b[38;5;129;01min\u001b[39;00m leaves):\n\u001b[1;32m   2120\u001b[0m   \u001b[38;5;66;03m# Added Nov 16 2023\u001b[39;00m\n\u001b[1;32m   2121\u001b[0m   warnings\u001b[38;5;241m.\u001b[39mwarn(\n\u001b[1;32m   2122\u001b[0m     \u001b[38;5;124m\"\u001b[39m\u001b[38;5;124mNone encountered in jnp.array(); this is currently treated as NaN. \u001b[39m\u001b[38;5;124m\"\u001b[39m\n\u001b[1;32m   2123\u001b[0m     \u001b[38;5;124m\"\u001b[39m\u001b[38;5;124mIn the future this will result in an error.\u001b[39m\u001b[38;5;124m\"\u001b[39m,\n\u001b[1;32m   2124\u001b[0m     \u001b[38;5;167;01mFutureWarning\u001b[39;00m, stacklevel\u001b[38;5;241m=\u001b[39m\u001b[38;5;241m2\u001b[39m)\n",
            "File \u001b[0;32m~/.local/share/virtualenvs/validating_lambdahat-UCObfUVw/lib/python3.11/site-packages/jax/_src/tree_util.py:103\u001b[0m, in \u001b[0;36mtree_leaves\u001b[0;34m(tree, is_leaf)\u001b[0m\n\u001b[1;32m     87\u001b[0m \u001b[38;5;250m  \u001b[39m\u001b[38;5;124;03m\"\"\"Reconstructs a pytree from the treedef and the leaves.\u001b[39;00m\n\u001b[1;32m     88\u001b[0m \n\u001b[1;32m     89\u001b[0m \u001b[38;5;124;03m  The inverse of :func:`tree_flatten`.\u001b[39;00m\n\u001b[0;32m   (...)\u001b[0m\n\u001b[1;32m     98\u001b[0m \u001b[38;5;124;03m    described by ``treedef``.\u001b[39;00m\n\u001b[1;32m     99\u001b[0m \u001b[38;5;124;03m  \"\"\"\u001b[39;00m\n\u001b[1;32m    100\u001b[0m   \u001b[38;5;28;01mreturn\u001b[39;00m treedef\u001b[38;5;241m.\u001b[39munflatten(leaves)\n\u001b[0;32m--> 103\u001b[0m \u001b[38;5;28;01mdef\u001b[39;00m \u001b[38;5;21mtree_leaves\u001b[39m(tree: Any,\n\u001b[1;32m    104\u001b[0m                 is_leaf: Callable[[Any], \u001b[38;5;28mbool\u001b[39m] \u001b[38;5;241m|\u001b[39m \u001b[38;5;28;01mNone\u001b[39;00m \u001b[38;5;241m=\u001b[39m \u001b[38;5;28;01mNone\u001b[39;00m\n\u001b[1;32m    105\u001b[0m                 ) \u001b[38;5;241m-\u001b[39m\u001b[38;5;241m>\u001b[39m \u001b[38;5;28mlist\u001b[39m[Leaf]:\n\u001b[1;32m    106\u001b[0m \u001b[38;5;250m  \u001b[39m\u001b[38;5;124;03m\"\"\"Gets the leaves of a pytree.\"\"\"\u001b[39;00m\n\u001b[1;32m    107\u001b[0m   \u001b[38;5;28;01mreturn\u001b[39;00m default_registry\u001b[38;5;241m.\u001b[39mflatten(tree, is_leaf)[\u001b[38;5;241m0\u001b[39m]\n",
            "\u001b[0;31mKeyboardInterrupt\u001b[0m: "
          ]
        }
      ],
      "source": [
        "%%time\n",
        "sgld_config = SGLDConfig(\n",
        "    epsilon=1e-5,\n",
        "    gamma=10.0,\n",
        "    num_steps=5000, \n",
        ")\n",
        "num_training_data = 10000  # Number of training samples\n",
        "num_epochs = 50\n",
        "batch_size = 100\n",
        "num_sgd_steps = num_epochs * (num_training_data // batch_size)\n",
        "\n",
        "num_checkpoints = 0\n",
        "if num_checkpoints > 0:\n",
        "    checkpoint_freq = num_sgd_steps // num_checkpoints\n",
        "    checkpoint_steps = list(range(checkpoint_freq, num_sgd_steps + 1, checkpoint_freq))\n",
        "else:\n",
        "    checkpoint_steps = []\n",
        "print(checkpoint_steps)\n",
        "itemp = 1 / np.log(num_training_data)\n",
        "learning_rate = 0.01\n",
        "optimizer = optax.sgd(learning_rate)\n",
        "\n",
        "\n",
        "num_expt = 2\n",
        "expt_rec = []\n",
        "rngkey = jax.random.PRNGKey(42)\n",
        "for expt_i in range(num_expt):\n",
        "    # expt configs\n",
        "    num_layer = np.random.randint(2, 20)\n",
        "    layer_widths = list(np.random.randint(5, 30, size=num_layer))\n",
        "    input_dim = np.random.randint(5, 20)\n",
        "\n",
        "    # Random true parameters\n",
        "    model = create_model(layer_widths)\n",
        "    dummy_input = jnp.zeros((1, input_dim))\n",
        "    rngkey, subkey = jax.random.split(rngkey)\n",
        "    # true_param = model.init(rngkey, dummy_input)\n",
        "    # true_param = jtree.tree_map(lambda x: x * 0.0, model.init(rngkey, dummy_input)) # zero true parameter\n",
        "    true_param = jtree.tree_map(lambda x: rand_reduce_matrix_rank(x) if np.random.rand() > 0.5 else x, model.init(rngkey, dummy_input)) # randomly reduce rank of random matrices\n",
        "    x_train, y_train = generate_training_data(true_param, model, input_dim, num_training_data)\n",
        "    loss_fn = jax.jit(lambda param, inputs, targets: mse_loss(param, model, inputs, targets))\n",
        "\n",
        "    # Training network\n",
        "    checkpoints = []\n",
        "    if num_checkpoints > 0:\n",
        "        rngkey, subkey = jax.random.split(rngkey)\n",
        "        param = model.init(rngkey, jnp.zeros((1, input_dim)))\n",
        "        opt_state = optimizer.init(param)\n",
        "        grad_fn = jax.jit(jax.grad(loss_fn, argnums=0))\n",
        "        sgd_step_count = 0\n",
        "        \n",
        "        for epoch in range(num_epochs):\n",
        "            for x_batch, y_batch in create_minibatches(x_train, y_train, batch_size=batch_size):\n",
        "                grads = grad_fn(param, x_batch, y_batch)\n",
        "                updates, opt_state = optimizer.update(grads, opt_state)\n",
        "                param = optax.apply_updates(param, updates)\n",
        "                sgd_step_count += 1\n",
        "                if sgd_step_count in checkpoint_steps:\n",
        "                    checkpoints.append({\"sgd_step_count\": sgd_step_count, \"param\": param, \"loss_val\": mse_loss(param, model, x_train, y_train), \"is_true_param\": False})\n",
        "\n",
        "    checkpoints.append({\"sgd_step_count\": None, \"param\": true_param, \"loss_val\": mse_loss(true_param, model, x_train, y_train), \"is_true_param\": True})\n",
        "    # SGLD sampling initialisation\n",
        "    rngkey, subkey = jax.random.split(rngkey)\n",
        "    sgldoptim = optim_sgld(sgld_config.epsilon, rngkey)\n",
        "    for checkpoint in checkpoints:\n",
        "        # initialise SGLD objective function\n",
        "        param_init = checkpoint[\"param\"]\n",
        "        local_logprob = create_local_logposterior(\n",
        "                avgnegloglikelihood_fn=loss_fn,\n",
        "                num_training_data=num_training_data,\n",
        "                w_init=param_init,\n",
        "                gamma=sgld_config.gamma,\n",
        "                itemp=itemp,\n",
        "            )\n",
        "        sgld_grad_fn = jax.jit(jax.value_and_grad(lambda w, x, y: -local_logprob(w, x, y), argnums=0)) # grad(sgld objective function)\n",
        "        loss_trace = []\n",
        "        nlls = []\n",
        "        opt_state = sgldoptim.init(param_init)\n",
        "        param = param_init\n",
        "        t = 0\n",
        "        # SGLD loop\n",
        "        while t < sgld_config.num_steps:\n",
        "            for x_batch, y_batch in create_minibatches(x_train, y_train, batch_size=batch_size):\n",
        "                nll, grads = sgld_grad_fn(param, x_batch, y_batch)\n",
        "                nlls.append(float(nll))\n",
        "                updates, opt_state = sgldoptim.update(grads, opt_state)\n",
        "                param = optax.apply_updates(param, updates)\n",
        "                loss_trace.append(loss_fn(param, x_train, y_train))\n",
        "                t += 1\n",
        "        \n",
        "        # compute lambdahat from loss trace\n",
        "        init_loss = loss_fn(param_init, x_train, y_train)\n",
        "        lambdahat = (np.mean(loss_trace) - init_loss) * num_training_data * itemp\n",
        "        checkpoint.update({\n",
        "            \"lambdahat\": lambdahat,\n",
        "            \"loss_trace\": loss_trace,\n",
        "            \"nlls\": nlls,\n",
        "            \"init_loss\": init_loss,\n",
        "        })\n",
        "\n",
        "    # Computing true lambda\n",
        "    true_matrix = jnp.linalg.multi_dot(\n",
        "        [true_param[f'deep_linear_network/linear{loc}']['w'] for loc in [''] + [f'_{i}' for i in range(1, len(layer_widths))]]\n",
        "    )\n",
        "    true_matrix_assertion = np.allclose(model.apply(true_param, x_train), x_train @ true_matrix, atol=1e-4)\n",
        "    true_rank = jnp.linalg.matrix_rank(true_matrix)\n",
        "    true_lambda = true_dln_learning_coefficient(true_rank, layer_widths, input_dim, verbose=False)\n",
        "    \n",
        "    # recording experiment\n",
        "    for checkpoint in checkpoints:\n",
        "        checkpoint[\"param\"] = jtree.tree_map(lambda x: x.shape, checkpoint[\"param\"])\n",
        "        \n",
        "    rec = {\n",
        "            \"expt_id\": expt_i,\n",
        "            \"num_layer\": num_layer,\n",
        "            \"layer_widths\": layer_widths,\n",
        "            \"input_dim\": input_dim,\n",
        "            \"true_matrix_assertion\": true_matrix_assertion,\n",
        "            \"true_lambda\": true_lambda,\n",
        "            \"true_rank\": true_rank,\n",
        "            \"true_matrix_shape\": true_matrix.shape,\n",
        "            \"checkpoints_info\": checkpoints\n",
        "        }\n",
        "    expt_rec.append(to_json_friendly_tree(rec))\n",
        "    checkpoint_lambdahats = [float(c[\"lambdahat\"]) for c in checkpoints]\n",
        "    print(\n",
        "        f\"Expt: {expt_i}, \"\n",
        "        f\"True matrix shape: {true_matrix.shape}, \"\n",
        "        f\"True rank: {true_rank}, \"\n",
        "        f\"Input dim: {input_dim}, \"\n",
        "        f\"Num layer: {num_layer}, \"\n",
        "        f\"Layer widths: {layer_widths}, \"\n",
        "        f\"True lambda: {true_lambda:.2f}, \"\n",
        "        f\"Estimated lambda: {checkpoint_lambdahats}, \"\n",
        "    )\n",
        "\n",
        "\n",
        "all([rec[\"true_matrix_assertion\"] for rec in expt_rec])"
      ]
    },
    {
      "cell_type": "code",
      "execution_count": 210,
      "metadata": {},
      "outputs": [],
      "source": [
        "# df_data.to_csv(\"outputs/zerotruth_evenmoresgldstep_dln_lambdahat_20231209.csv\")\n",
        "from datetime import datetime\n",
        "datetimestring = datetime.now().strftime('%Y%m%d%H%M')\n",
        "expt_name = f\"randomrank_n{num_training_data}_b{batch_size}_eps{sgld_config.epsilon}_steps{sgld_config.num_steps}\"\n",
        "# with open(f\"./outputs/dln_lambdahat_results/{datetimestring}_{expt_name}.json\", 'w') as outfile:\n",
        "#     json.dump([to_json_friendly_tree(rec) for rec in expt_rec], outfile)"
      ]
    },
    {
      "cell_type": "code",
      "execution_count": 212,
      "metadata": {
        "colab": {
          "base_uri": "https://localhost:8080/",
          "height": 713
        },
        "id": "sojDC86TRQ8X",
        "outputId": "0c2d07b3-ba26-4f76-f5f8-5a2841bc5335"
      },
      "outputs": [],
      "source": [
        "import pandas as pd\n",
        "import seaborn as sns\n",
        "\n",
        "data = []\n",
        "header = [\n",
        "    \"expt_id\", \"num_layer\", \"layer_widths\", \"input_dim\", \n",
        "    \"true_lambda\", \"true_rank\", \"true_matrix_shape\"\n",
        "]\n",
        "header_rest = [\n",
        "    \"sgd_step_count\", \"loss_val\", \"is_true_param\", \n",
        "    \"lambdahat\", \"init_loss\",\n",
        "]\n",
        "for rec in expt_rec:\n",
        "    extract = [rec[key] for key in header]\n",
        "    for checkpoint in rec[\"checkpoints_info\"]:\n",
        "        data.append(\n",
        "            extract + [checkpoint[key] for key in header_rest]\n",
        "        )\n",
        "df_data = pd.DataFrame(data, columns=header + header_rest)\n",
        "df_data[\"is_true_param\"] = np.array(df_data[\"is_true_param\"], dtype=bool)\n",
        "model_dims = []\n",
        "for i, row in df_data.iterrows():\n",
        "    widths = [row[\"input_dim\"]] + list(row[\"layer_widths\"])\n",
        "    model_dim = np.sum([widths[i] * widths[i + 1] for i in range(len(widths) - 1)])\n",
        "    model_dims.append(model_dim)\n",
        "df_data[\"model_dim\"] = model_dims"
      ]
    },
    {
      "cell_type": "code",
      "execution_count": 213,
      "metadata": {},
      "outputs": [
        {
          "data": {
            "application/vnd.plotly.v1+json": {
              "config": {
                "plotlyServerURL": "https://plot.ly"
              },
              "data": [
                {
                  "marker": {
                    "size": 5
                  },
                  "mode": "markers",
                  "name": "lambdahat",
                  "type": "scatter",
                  "x": [
                    20,
                    134.5,
                    80.5,
                    42,
                    19,
                    18,
                    21.5,
                    32.5,
                    34,
                    99,
                    37.50001525878906,
                    28.5,
                    63,
                    53.999969482421875,
                    21.500003814697266,
                    25.49999237060547,
                    66.00001525878906,
                    115,
                    62,
                    42.5,
                    21.5,
                    28.5,
                    56,
                    77.99996948242188,
                    54.5,
                    16,
                    114.5,
                    26,
                    31.49993896484375,
                    46.5,
                    57.5,
                    114,
                    45,
                    34.5,
                    25,
                    25.5,
                    26,
                    72,
                    53,
                    16.499996185302734,
                    46,
                    60.000003814697266,
                    70,
                    75.5,
                    89.5,
                    50.5,
                    36.5,
                    32.5,
                    59,
                    38.5,
                    30.5,
                    126.5,
                    72,
                    31.5,
                    27,
                    28.5,
                    63,
                    24,
                    35.50001525878906,
                    42.5,
                    60,
                    66,
                    49.5,
                    75,
                    71.50001525878906,
                    61.5,
                    25,
                    38.5,
                    34.49999237060547,
                    37.5,
                    44.5,
                    65,
                    33.00001525878906,
                    75.5,
                    22,
                    47,
                    24.5,
                    45,
                    61.5,
                    35.5,
                    57,
                    62.5,
                    41,
                    35.5,
                    18,
                    32,
                    53.5,
                    18.500003814697266,
                    13,
                    162.5,
                    130,
                    35,
                    178.5,
                    19.49999237060547,
                    30.50000762939453,
                    44.5,
                    21.5,
                    19.49999237060547,
                    35,
                    56
                  ],
                  "y": [
                    24.148353576660156,
                    153.2913055419922,
                    49.927268981933594,
                    46.67476272583008,
                    20.10332489013672,
                    null,
                    null,
                    null,
                    null,
                    112.13603973388672,
                    39.88655471801758,
                    31.682218551635742,
                    82.13810729980469,
                    57.18043518066406,
                    10.287334442138672,
                    null,
                    null,
                    120.47237396240234,
                    69.27682495117188,
                    32.54208755493164,
                    null,
                    35.79349136352539,
                    69.99494934082031,
                    75.73185729980469,
                    77.27835845947266,
                    11.15491771697998,
                    72.0167007446289,
                    24.25522804260254,
                    null,
                    65.36689758300781,
                    82.88285064697266,
                    103.62651824951172,
                    56.07149124145508,
                    null,
                    31.439462661743164,
                    19.551496505737305,
                    null,
                    81.84700012207031,
                    40.695892333984375,
                    null,
                    null,
                    null,
                    67.4765625,
                    104.20452880859375,
                    100.90126037597656,
                    68.19722747802734,
                    null,
                    49.99321365356445,
                    60.97907257080078,
                    42.35173797607422,
                    34.182064056396484,
                    131.636474609375,
                    null,
                    31.440032958984375,
                    34.344398498535156,
                    28.090747833251953,
                    65.62647247314453,
                    null,
                    37.66493606567383,
                    42.06154251098633,
                    100.70108795166016,
                    79.1380844116211,
                    61.97075271606445,
                    91.10929870605469,
                    74.126220703125,
                    47.32501983642578,
                    15.78312873840332,
                    null,
                    21.211071014404297,
                    34.34882736206055,
                    59.2175407409668,
                    83.03174591064453,
                    null,
                    93.24401092529297,
                    null,
                    null,
                    29.887514114379883,
                    42.283660888671875,
                    49.9312744140625,
                    null,
                    67.22850036621094,
                    63.371925354003906,
                    null,
                    null,
                    55.10746383666992,
                    22.751779556274414,
                    62.62516403198242,
                    8.224783897399902,
                    null,
                    166.74374389648438,
                    132.7952880859375,
                    30.261699676513672,
                    181.85813903808594,
                    null,
                    null,
                    43.72695541381836,
                    20.172359466552734,
                    null,
                    70.58116149902344,
                    59.9042854309082
                  ]
                },
                {
                  "marker": {
                    "size": 5
                  },
                  "mode": "markers",
                  "name": "true_rank",
                  "type": "scatter",
                  "x": [
                    20,
                    134.5,
                    80.5,
                    42,
                    19,
                    18,
                    21.5,
                    32.5,
                    34,
                    99,
                    37.50001525878906,
                    28.5,
                    63,
                    53.999969482421875,
                    21.500003814697266,
                    25.49999237060547,
                    66.00001525878906,
                    115,
                    62,
                    42.5,
                    21.5,
                    28.5,
                    56,
                    77.99996948242188,
                    54.5,
                    16,
                    114.5,
                    26,
                    31.49993896484375,
                    46.5,
                    57.5,
                    114,
                    45,
                    34.5,
                    25,
                    25.5,
                    26,
                    72,
                    53,
                    16.499996185302734,
                    46,
                    60.000003814697266,
                    70,
                    75.5,
                    89.5,
                    50.5,
                    36.5,
                    32.5,
                    59,
                    38.5,
                    30.5,
                    126.5,
                    72,
                    31.5,
                    27,
                    28.5,
                    63,
                    24,
                    35.50001525878906,
                    42.5,
                    60,
                    66,
                    49.5,
                    75,
                    71.50001525878906,
                    61.5,
                    25,
                    38.5,
                    34.49999237060547,
                    37.5,
                    44.5,
                    65,
                    33.00001525878906,
                    75.5,
                    22,
                    47,
                    24.5,
                    45,
                    61.5,
                    35.5,
                    57,
                    62.5,
                    41,
                    35.5,
                    18,
                    32,
                    53.5,
                    18.500003814697266,
                    13,
                    162.5,
                    130,
                    35,
                    178.5,
                    19.49999237060547,
                    30.50000762939453,
                    44.5,
                    21.5,
                    19.49999237060547,
                    35,
                    56
                  ],
                  "y": [
                    1,
                    8,
                    4,
                    4,
                    1,
                    1,
                    2,
                    1,
                    1,
                    6,
                    1,
                    2,
                    6,
                    1,
                    1,
                    1,
                    3,
                    10,
                    1,
                    5,
                    3,
                    5,
                    3,
                    2,
                    5,
                    1,
                    6,
                    5,
                    1,
                    3,
                    2,
                    6,
                    5,
                    3,
                    1,
                    1,
                    1,
                    6,
                    4,
                    1,
                    2,
                    4,
                    5,
                    5,
                    4,
                    1,
                    2,
                    3,
                    2,
                    1,
                    1,
                    11,
                    5,
                    2,
                    3,
                    1,
                    2,
                    1,
                    2,
                    2,
                    6,
                    2,
                    3,
                    4,
                    5,
                    3,
                    1,
                    2,
                    1,
                    2,
                    3,
                    5,
                    1,
                    3,
                    1,
                    1,
                    2,
                    1,
                    2,
                    1,
                    4,
                    5,
                    2,
                    2,
                    4,
                    1,
                    1,
                    1,
                    1,
                    13,
                    10,
                    1,
                    10,
                    1,
                    1,
                    1,
                    2,
                    1,
                    5,
                    4
                  ]
                },
                {
                  "marker": {
                    "color": "green",
                    "size": 5
                  },
                  "mode": "markers",
                  "name": "model dimension / 2",
                  "type": "scatter",
                  "x": [
                    20,
                    134.5,
                    80.5,
                    42,
                    19,
                    18,
                    21.5,
                    32.5,
                    34,
                    99,
                    37.50001525878906,
                    28.5,
                    63,
                    53.999969482421875,
                    21.500003814697266,
                    25.49999237060547,
                    66.00001525878906,
                    115,
                    62,
                    42.5,
                    21.5,
                    28.5,
                    56,
                    77.99996948242188,
                    54.5,
                    16,
                    114.5,
                    26,
                    31.49993896484375,
                    46.5,
                    57.5,
                    114,
                    45,
                    34.5,
                    25,
                    25.5,
                    26,
                    72,
                    53,
                    16.499996185302734,
                    46,
                    60.000003814697266,
                    70,
                    75.5,
                    89.5,
                    50.5,
                    36.5,
                    32.5,
                    59,
                    38.5,
                    30.5,
                    126.5,
                    72,
                    31.5,
                    27,
                    28.5,
                    63,
                    24,
                    35.50001525878906,
                    42.5,
                    60,
                    66,
                    49.5,
                    75,
                    71.50001525878906,
                    61.5,
                    25,
                    38.5,
                    34.49999237060547,
                    37.5,
                    44.5,
                    65,
                    33.00001525878906,
                    75.5,
                    22,
                    47,
                    24.5,
                    45,
                    61.5,
                    35.5,
                    57,
                    62.5,
                    41,
                    35.5,
                    18,
                    32,
                    53.5,
                    18.500003814697266,
                    13,
                    162.5,
                    130,
                    35,
                    178.5,
                    19.49999237060547,
                    30.50000762939453,
                    44.5,
                    21.5,
                    19.49999237060547,
                    35,
                    56
                  ],
                  "y": [
                    932,
                    769.5,
                    495,
                    282,
                    1058,
                    1657.5,
                    2507.5,
                    2378.5,
                    2243,
                    735,
                    2150.5,
                    1044.5,
                    1334,
                    1548,
                    1447,
                    1750.5,
                    2187.5,
                    561.5,
                    798.5,
                    1091,
                    1414,
                    1516.5,
                    520,
                    341.5,
                    1584,
                    1498,
                    2110,
                    1487.5,
                    2726.5,
                    1423.5,
                    727.5,
                    150,
                    711.5,
                    1949,
                    1061,
                    1095,
                    2805.5,
                    722,
                    773.5,
                    2087.5,
                    2088,
                    2388.5,
                    1251,
                    918,
                    1049,
                    1206.5,
                    1772.5,
                    282,
                    423.5,
                    1397.5,
                    1039,
                    442,
                    2057.5,
                    2108.5,
                    532,
                    645,
                    299,
                    2867,
                    442,
                    622.5,
                    2454,
                    2261.5,
                    2198.5,
                    1905.5,
                    2006,
                    1443,
                    1472,
                    1601,
                    1352,
                    1408,
                    665,
                    768.5,
                    2421,
                    784,
                    2421.5,
                    2770.5,
                    856.5,
                    1044.5,
                    1789,
                    1968.5,
                    576.5,
                    75,
                    1278,
                    1813,
                    1211.5,
                    2187.5,
                    883.5,
                    1323.5,
                    1745.5,
                    513,
                    378,
                    1475,
                    513,
                    2141,
                    1994.5,
                    1076.5,
                    1488,
                    2249.5,
                    1000.5,
                    687
                  ]
                },
                {
                  "line": {
                    "color": "red",
                    "dash": "dash",
                    "width": 2
                  },
                  "mode": "lines",
                  "name": "true_lambda",
                  "type": "scatter",
                  "x": [
                    13,
                    16,
                    16.499996185302734,
                    18,
                    18,
                    18.500003814697266,
                    19,
                    19.49999237060547,
                    19.49999237060547,
                    20,
                    21.5,
                    21.5,
                    21.5,
                    21.500003814697266,
                    22,
                    24,
                    24.5,
                    25,
                    25,
                    25.49999237060547,
                    25.5,
                    26,
                    26,
                    27,
                    28.5,
                    28.5,
                    28.5,
                    30.5,
                    30.50000762939453,
                    31.49993896484375,
                    31.5,
                    32,
                    32.5,
                    32.5,
                    33.00001525878906,
                    34,
                    34.49999237060547,
                    34.5,
                    35,
                    35,
                    35.5,
                    35.5,
                    35.50001525878906,
                    36.5,
                    37.5,
                    37.50001525878906,
                    38.5,
                    38.5,
                    41,
                    42,
                    42.5,
                    42.5,
                    44.5,
                    44.5,
                    45,
                    45,
                    46,
                    46.5,
                    47,
                    49.5,
                    50.5,
                    53,
                    53.5,
                    53.999969482421875,
                    54.5,
                    56,
                    56,
                    57,
                    57.5,
                    59,
                    60,
                    60.000003814697266,
                    61.5,
                    61.5,
                    62,
                    62.5,
                    63,
                    63,
                    65,
                    66,
                    66.00001525878906,
                    70,
                    71.50001525878906,
                    72,
                    72,
                    75,
                    75.5,
                    75.5,
                    77.99996948242188,
                    80.5,
                    89.5,
                    99,
                    114,
                    114.5,
                    115,
                    126.5,
                    130,
                    134.5,
                    162.5,
                    178.5
                  ],
                  "y": [
                    13,
                    16,
                    16.499996185302734,
                    18,
                    18,
                    18.500003814697266,
                    19,
                    19.49999237060547,
                    19.49999237060547,
                    20,
                    21.5,
                    21.5,
                    21.5,
                    21.500003814697266,
                    22,
                    24,
                    24.5,
                    25,
                    25,
                    25.49999237060547,
                    25.5,
                    26,
                    26,
                    27,
                    28.5,
                    28.5,
                    28.5,
                    30.5,
                    30.50000762939453,
                    31.49993896484375,
                    31.5,
                    32,
                    32.5,
                    32.5,
                    33.00001525878906,
                    34,
                    34.49999237060547,
                    34.5,
                    35,
                    35,
                    35.5,
                    35.5,
                    35.50001525878906,
                    36.5,
                    37.5,
                    37.50001525878906,
                    38.5,
                    38.5,
                    41,
                    42,
                    42.5,
                    42.5,
                    44.5,
                    44.5,
                    45,
                    45,
                    46,
                    46.5,
                    47,
                    49.5,
                    50.5,
                    53,
                    53.5,
                    53.999969482421875,
                    54.5,
                    56,
                    56,
                    57,
                    57.5,
                    59,
                    60,
                    60.000003814697266,
                    61.5,
                    61.5,
                    62,
                    62.5,
                    63,
                    63,
                    65,
                    66,
                    66.00001525878906,
                    70,
                    71.50001525878906,
                    72,
                    72,
                    75,
                    75.5,
                    75.5,
                    77.99996948242188,
                    80.5,
                    89.5,
                    99,
                    114,
                    114.5,
                    115,
                    126.5,
                    130,
                    134.5,
                    162.5,
                    178.5
                  ]
                }
              ],
              "layout": {
                "height": 800,
                "legend": {
                  "title": {
                    "text": "Legend"
                  }
                },
                "template": {
                  "data": {
                    "bar": [
                      {
                        "error_x": {
                          "color": "#2a3f5f"
                        },
                        "error_y": {
                          "color": "#2a3f5f"
                        },
                        "marker": {
                          "line": {
                            "color": "#E5ECF6",
                            "width": 0.5
                          },
                          "pattern": {
                            "fillmode": "overlay",
                            "size": 10,
                            "solidity": 0.2
                          }
                        },
                        "type": "bar"
                      }
                    ],
                    "barpolar": [
                      {
                        "marker": {
                          "line": {
                            "color": "#E5ECF6",
                            "width": 0.5
                          },
                          "pattern": {
                            "fillmode": "overlay",
                            "size": 10,
                            "solidity": 0.2
                          }
                        },
                        "type": "barpolar"
                      }
                    ],
                    "carpet": [
                      {
                        "aaxis": {
                          "endlinecolor": "#2a3f5f",
                          "gridcolor": "white",
                          "linecolor": "white",
                          "minorgridcolor": "white",
                          "startlinecolor": "#2a3f5f"
                        },
                        "baxis": {
                          "endlinecolor": "#2a3f5f",
                          "gridcolor": "white",
                          "linecolor": "white",
                          "minorgridcolor": "white",
                          "startlinecolor": "#2a3f5f"
                        },
                        "type": "carpet"
                      }
                    ],
                    "choropleth": [
                      {
                        "colorbar": {
                          "outlinewidth": 0,
                          "ticks": ""
                        },
                        "type": "choropleth"
                      }
                    ],
                    "contour": [
                      {
                        "colorbar": {
                          "outlinewidth": 0,
                          "ticks": ""
                        },
                        "colorscale": [
                          [
                            0,
                            "#0d0887"
                          ],
                          [
                            0.1111111111111111,
                            "#46039f"
                          ],
                          [
                            0.2222222222222222,
                            "#7201a8"
                          ],
                          [
                            0.3333333333333333,
                            "#9c179e"
                          ],
                          [
                            0.4444444444444444,
                            "#bd3786"
                          ],
                          [
                            0.5555555555555556,
                            "#d8576b"
                          ],
                          [
                            0.6666666666666666,
                            "#ed7953"
                          ],
                          [
                            0.7777777777777778,
                            "#fb9f3a"
                          ],
                          [
                            0.8888888888888888,
                            "#fdca26"
                          ],
                          [
                            1,
                            "#f0f921"
                          ]
                        ],
                        "type": "contour"
                      }
                    ],
                    "contourcarpet": [
                      {
                        "colorbar": {
                          "outlinewidth": 0,
                          "ticks": ""
                        },
                        "type": "contourcarpet"
                      }
                    ],
                    "heatmap": [
                      {
                        "colorbar": {
                          "outlinewidth": 0,
                          "ticks": ""
                        },
                        "colorscale": [
                          [
                            0,
                            "#0d0887"
                          ],
                          [
                            0.1111111111111111,
                            "#46039f"
                          ],
                          [
                            0.2222222222222222,
                            "#7201a8"
                          ],
                          [
                            0.3333333333333333,
                            "#9c179e"
                          ],
                          [
                            0.4444444444444444,
                            "#bd3786"
                          ],
                          [
                            0.5555555555555556,
                            "#d8576b"
                          ],
                          [
                            0.6666666666666666,
                            "#ed7953"
                          ],
                          [
                            0.7777777777777778,
                            "#fb9f3a"
                          ],
                          [
                            0.8888888888888888,
                            "#fdca26"
                          ],
                          [
                            1,
                            "#f0f921"
                          ]
                        ],
                        "type": "heatmap"
                      }
                    ],
                    "heatmapgl": [
                      {
                        "colorbar": {
                          "outlinewidth": 0,
                          "ticks": ""
                        },
                        "colorscale": [
                          [
                            0,
                            "#0d0887"
                          ],
                          [
                            0.1111111111111111,
                            "#46039f"
                          ],
                          [
                            0.2222222222222222,
                            "#7201a8"
                          ],
                          [
                            0.3333333333333333,
                            "#9c179e"
                          ],
                          [
                            0.4444444444444444,
                            "#bd3786"
                          ],
                          [
                            0.5555555555555556,
                            "#d8576b"
                          ],
                          [
                            0.6666666666666666,
                            "#ed7953"
                          ],
                          [
                            0.7777777777777778,
                            "#fb9f3a"
                          ],
                          [
                            0.8888888888888888,
                            "#fdca26"
                          ],
                          [
                            1,
                            "#f0f921"
                          ]
                        ],
                        "type": "heatmapgl"
                      }
                    ],
                    "histogram": [
                      {
                        "marker": {
                          "pattern": {
                            "fillmode": "overlay",
                            "size": 10,
                            "solidity": 0.2
                          }
                        },
                        "type": "histogram"
                      }
                    ],
                    "histogram2d": [
                      {
                        "colorbar": {
                          "outlinewidth": 0,
                          "ticks": ""
                        },
                        "colorscale": [
                          [
                            0,
                            "#0d0887"
                          ],
                          [
                            0.1111111111111111,
                            "#46039f"
                          ],
                          [
                            0.2222222222222222,
                            "#7201a8"
                          ],
                          [
                            0.3333333333333333,
                            "#9c179e"
                          ],
                          [
                            0.4444444444444444,
                            "#bd3786"
                          ],
                          [
                            0.5555555555555556,
                            "#d8576b"
                          ],
                          [
                            0.6666666666666666,
                            "#ed7953"
                          ],
                          [
                            0.7777777777777778,
                            "#fb9f3a"
                          ],
                          [
                            0.8888888888888888,
                            "#fdca26"
                          ],
                          [
                            1,
                            "#f0f921"
                          ]
                        ],
                        "type": "histogram2d"
                      }
                    ],
                    "histogram2dcontour": [
                      {
                        "colorbar": {
                          "outlinewidth": 0,
                          "ticks": ""
                        },
                        "colorscale": [
                          [
                            0,
                            "#0d0887"
                          ],
                          [
                            0.1111111111111111,
                            "#46039f"
                          ],
                          [
                            0.2222222222222222,
                            "#7201a8"
                          ],
                          [
                            0.3333333333333333,
                            "#9c179e"
                          ],
                          [
                            0.4444444444444444,
                            "#bd3786"
                          ],
                          [
                            0.5555555555555556,
                            "#d8576b"
                          ],
                          [
                            0.6666666666666666,
                            "#ed7953"
                          ],
                          [
                            0.7777777777777778,
                            "#fb9f3a"
                          ],
                          [
                            0.8888888888888888,
                            "#fdca26"
                          ],
                          [
                            1,
                            "#f0f921"
                          ]
                        ],
                        "type": "histogram2dcontour"
                      }
                    ],
                    "mesh3d": [
                      {
                        "colorbar": {
                          "outlinewidth": 0,
                          "ticks": ""
                        },
                        "type": "mesh3d"
                      }
                    ],
                    "parcoords": [
                      {
                        "line": {
                          "colorbar": {
                            "outlinewidth": 0,
                            "ticks": ""
                          }
                        },
                        "type": "parcoords"
                      }
                    ],
                    "pie": [
                      {
                        "automargin": true,
                        "type": "pie"
                      }
                    ],
                    "scatter": [
                      {
                        "fillpattern": {
                          "fillmode": "overlay",
                          "size": 10,
                          "solidity": 0.2
                        },
                        "type": "scatter"
                      }
                    ],
                    "scatter3d": [
                      {
                        "line": {
                          "colorbar": {
                            "outlinewidth": 0,
                            "ticks": ""
                          }
                        },
                        "marker": {
                          "colorbar": {
                            "outlinewidth": 0,
                            "ticks": ""
                          }
                        },
                        "type": "scatter3d"
                      }
                    ],
                    "scattercarpet": [
                      {
                        "marker": {
                          "colorbar": {
                            "outlinewidth": 0,
                            "ticks": ""
                          }
                        },
                        "type": "scattercarpet"
                      }
                    ],
                    "scattergeo": [
                      {
                        "marker": {
                          "colorbar": {
                            "outlinewidth": 0,
                            "ticks": ""
                          }
                        },
                        "type": "scattergeo"
                      }
                    ],
                    "scattergl": [
                      {
                        "marker": {
                          "colorbar": {
                            "outlinewidth": 0,
                            "ticks": ""
                          }
                        },
                        "type": "scattergl"
                      }
                    ],
                    "scattermapbox": [
                      {
                        "marker": {
                          "colorbar": {
                            "outlinewidth": 0,
                            "ticks": ""
                          }
                        },
                        "type": "scattermapbox"
                      }
                    ],
                    "scatterpolar": [
                      {
                        "marker": {
                          "colorbar": {
                            "outlinewidth": 0,
                            "ticks": ""
                          }
                        },
                        "type": "scatterpolar"
                      }
                    ],
                    "scatterpolargl": [
                      {
                        "marker": {
                          "colorbar": {
                            "outlinewidth": 0,
                            "ticks": ""
                          }
                        },
                        "type": "scatterpolargl"
                      }
                    ],
                    "scatterternary": [
                      {
                        "marker": {
                          "colorbar": {
                            "outlinewidth": 0,
                            "ticks": ""
                          }
                        },
                        "type": "scatterternary"
                      }
                    ],
                    "surface": [
                      {
                        "colorbar": {
                          "outlinewidth": 0,
                          "ticks": ""
                        },
                        "colorscale": [
                          [
                            0,
                            "#0d0887"
                          ],
                          [
                            0.1111111111111111,
                            "#46039f"
                          ],
                          [
                            0.2222222222222222,
                            "#7201a8"
                          ],
                          [
                            0.3333333333333333,
                            "#9c179e"
                          ],
                          [
                            0.4444444444444444,
                            "#bd3786"
                          ],
                          [
                            0.5555555555555556,
                            "#d8576b"
                          ],
                          [
                            0.6666666666666666,
                            "#ed7953"
                          ],
                          [
                            0.7777777777777778,
                            "#fb9f3a"
                          ],
                          [
                            0.8888888888888888,
                            "#fdca26"
                          ],
                          [
                            1,
                            "#f0f921"
                          ]
                        ],
                        "type": "surface"
                      }
                    ],
                    "table": [
                      {
                        "cells": {
                          "fill": {
                            "color": "#EBF0F8"
                          },
                          "line": {
                            "color": "white"
                          }
                        },
                        "header": {
                          "fill": {
                            "color": "#C8D4E3"
                          },
                          "line": {
                            "color": "white"
                          }
                        },
                        "type": "table"
                      }
                    ]
                  },
                  "layout": {
                    "annotationdefaults": {
                      "arrowcolor": "#2a3f5f",
                      "arrowhead": 0,
                      "arrowwidth": 1
                    },
                    "autotypenumbers": "strict",
                    "coloraxis": {
                      "colorbar": {
                        "outlinewidth": 0,
                        "ticks": ""
                      }
                    },
                    "colorscale": {
                      "diverging": [
                        [
                          0,
                          "#8e0152"
                        ],
                        [
                          0.1,
                          "#c51b7d"
                        ],
                        [
                          0.2,
                          "#de77ae"
                        ],
                        [
                          0.3,
                          "#f1b6da"
                        ],
                        [
                          0.4,
                          "#fde0ef"
                        ],
                        [
                          0.5,
                          "#f7f7f7"
                        ],
                        [
                          0.6,
                          "#e6f5d0"
                        ],
                        [
                          0.7,
                          "#b8e186"
                        ],
                        [
                          0.8,
                          "#7fbc41"
                        ],
                        [
                          0.9,
                          "#4d9221"
                        ],
                        [
                          1,
                          "#276419"
                        ]
                      ],
                      "sequential": [
                        [
                          0,
                          "#0d0887"
                        ],
                        [
                          0.1111111111111111,
                          "#46039f"
                        ],
                        [
                          0.2222222222222222,
                          "#7201a8"
                        ],
                        [
                          0.3333333333333333,
                          "#9c179e"
                        ],
                        [
                          0.4444444444444444,
                          "#bd3786"
                        ],
                        [
                          0.5555555555555556,
                          "#d8576b"
                        ],
                        [
                          0.6666666666666666,
                          "#ed7953"
                        ],
                        [
                          0.7777777777777778,
                          "#fb9f3a"
                        ],
                        [
                          0.8888888888888888,
                          "#fdca26"
                        ],
                        [
                          1,
                          "#f0f921"
                        ]
                      ],
                      "sequentialminus": [
                        [
                          0,
                          "#0d0887"
                        ],
                        [
                          0.1111111111111111,
                          "#46039f"
                        ],
                        [
                          0.2222222222222222,
                          "#7201a8"
                        ],
                        [
                          0.3333333333333333,
                          "#9c179e"
                        ],
                        [
                          0.4444444444444444,
                          "#bd3786"
                        ],
                        [
                          0.5555555555555556,
                          "#d8576b"
                        ],
                        [
                          0.6666666666666666,
                          "#ed7953"
                        ],
                        [
                          0.7777777777777778,
                          "#fb9f3a"
                        ],
                        [
                          0.8888888888888888,
                          "#fdca26"
                        ],
                        [
                          1,
                          "#f0f921"
                        ]
                      ]
                    },
                    "colorway": [
                      "#636efa",
                      "#EF553B",
                      "#00cc96",
                      "#ab63fa",
                      "#FFA15A",
                      "#19d3f3",
                      "#FF6692",
                      "#B6E880",
                      "#FF97FF",
                      "#FECB52"
                    ],
                    "font": {
                      "color": "#2a3f5f"
                    },
                    "geo": {
                      "bgcolor": "white",
                      "lakecolor": "white",
                      "landcolor": "#E5ECF6",
                      "showlakes": true,
                      "showland": true,
                      "subunitcolor": "white"
                    },
                    "hoverlabel": {
                      "align": "left"
                    },
                    "hovermode": "closest",
                    "mapbox": {
                      "style": "light"
                    },
                    "paper_bgcolor": "white",
                    "plot_bgcolor": "#E5ECF6",
                    "polar": {
                      "angularaxis": {
                        "gridcolor": "white",
                        "linecolor": "white",
                        "ticks": ""
                      },
                      "bgcolor": "#E5ECF6",
                      "radialaxis": {
                        "gridcolor": "white",
                        "linecolor": "white",
                        "ticks": ""
                      }
                    },
                    "scene": {
                      "xaxis": {
                        "backgroundcolor": "#E5ECF6",
                        "gridcolor": "white",
                        "gridwidth": 2,
                        "linecolor": "white",
                        "showbackground": true,
                        "ticks": "",
                        "zerolinecolor": "white"
                      },
                      "yaxis": {
                        "backgroundcolor": "#E5ECF6",
                        "gridcolor": "white",
                        "gridwidth": 2,
                        "linecolor": "white",
                        "showbackground": true,
                        "ticks": "",
                        "zerolinecolor": "white"
                      },
                      "zaxis": {
                        "backgroundcolor": "#E5ECF6",
                        "gridcolor": "white",
                        "gridwidth": 2,
                        "linecolor": "white",
                        "showbackground": true,
                        "ticks": "",
                        "zerolinecolor": "white"
                      }
                    },
                    "shapedefaults": {
                      "line": {
                        "color": "#2a3f5f"
                      }
                    },
                    "ternary": {
                      "aaxis": {
                        "gridcolor": "white",
                        "linecolor": "white",
                        "ticks": ""
                      },
                      "baxis": {
                        "gridcolor": "white",
                        "linecolor": "white",
                        "ticks": ""
                      },
                      "bgcolor": "#E5ECF6",
                      "caxis": {
                        "gridcolor": "white",
                        "linecolor": "white",
                        "ticks": ""
                      }
                    },
                    "title": {
                      "x": 0.05
                    },
                    "xaxis": {
                      "automargin": true,
                      "gridcolor": "white",
                      "linecolor": "white",
                      "ticks": "",
                      "title": {
                        "standoff": 15
                      },
                      "zerolinecolor": "white",
                      "zerolinewidth": 2
                    },
                    "yaxis": {
                      "automargin": true,
                      "gridcolor": "white",
                      "linecolor": "white",
                      "ticks": "",
                      "title": {
                        "standoff": 15
                      },
                      "zerolinecolor": "white",
                      "zerolinewidth": 2
                    }
                  }
                },
                "title": {
                  "text": "Comparison of Metrics"
                },
                "width": 800,
                "xaxis": {
                  "title": {
                    "text": "True lambda"
                  }
                },
                "yaxis": {
                  "title": {
                    "text": "Metrics"
                  }
                }
              }
            }
          },
          "metadata": {},
          "output_type": "display_data"
        }
      ],
      "source": [
        "import plotly.graph_objects as go\n",
        "\n",
        "df = df_data[df_data[\"is_true_param\"]]\n",
        "fig = go.Figure()\n",
        "\n",
        "fig.add_trace(go.Scatter(\n",
        "    x=df[\"true_lambda\"], \n",
        "    y=df[\"lambdahat\"], \n",
        "    mode='markers', \n",
        "    marker=dict(size=5),\n",
        "    name='lambdahat'\n",
        "))\n",
        "\n",
        "fig.add_trace(go.Scatter(\n",
        "    x=df[\"true_lambda\"], \n",
        "    y=df[\"true_rank\"], \n",
        "    mode='markers', \n",
        "    marker=dict(size=5),\n",
        "    name='true_rank'\n",
        "))\n",
        "\n",
        "fig.add_trace(go.Scatter(\n",
        "    x=df[\"true_lambda\"], \n",
        "    y=df[\"model_dim\"] / 2, \n",
        "    mode='markers', \n",
        "    marker=dict(size=5, color='green'),\n",
        "    name='model dimension / 2'\n",
        "))\n",
        "\n",
        "# Add the y=x line\n",
        "sorted_true_lambda = sorted(df[\"true_lambda\"])\n",
        "fig.add_trace(go.Scatter(\n",
        "    x=sorted_true_lambda, \n",
        "    y=sorted_true_lambda, \n",
        "    mode='lines', \n",
        "    line=dict(dash='dash', color='red', width=2),\n",
        "    name='true_lambda'\n",
        "))\n",
        "\n",
        "fig.update_layout(\n",
        "    title=\"Comparison of Metrics\",\n",
        "    xaxis_title=\"True lambda\",\n",
        "    yaxis_title=\"Metrics\",\n",
        "    legend_title=\"Legend\",\n",
        "    width=800,\n",
        "    height=800\n",
        ")\n"
      ]
    },
    {
      "cell_type": "code",
      "execution_count": 214,
      "metadata": {},
      "outputs": [
        {
          "data": {
            "application/vnd.plotly.v1+json": {
              "config": {
                "plotlyServerURL": "https://plot.ly"
              },
              "data": [
                {
                  "hovertemplate": "True lambda=%{x}<br>lambdahat=%{y}<br>Number of Layers=%{marker.size}<br>Model Dimension=%{marker.color}<extra></extra>",
                  "legendgroup": "",
                  "marker": {
                    "color": [
                      1864,
                      1539,
                      990,
                      564,
                      2116,
                      3315,
                      5015,
                      4757,
                      4486,
                      1470,
                      4301,
                      2089,
                      2668,
                      3096,
                      2894,
                      3501,
                      4375,
                      1123,
                      1597,
                      2182,
                      2828,
                      3033,
                      1040,
                      683,
                      3168,
                      2996,
                      4220,
                      2975,
                      5453,
                      2847,
                      1455,
                      300,
                      1423,
                      3898,
                      2122,
                      2190,
                      5611,
                      1444,
                      1547,
                      4175,
                      4176,
                      4777,
                      2502,
                      1836,
                      2098,
                      2413,
                      3545,
                      564,
                      847,
                      2795,
                      2078,
                      884,
                      4115,
                      4217,
                      1064,
                      1290,
                      598,
                      5734,
                      884,
                      1245,
                      4908,
                      4523,
                      4397,
                      3811,
                      4012,
                      2886,
                      2944,
                      3202,
                      2704,
                      2816,
                      1330,
                      1537,
                      4842,
                      1568,
                      4843,
                      5541,
                      1713,
                      2089,
                      3578,
                      3937,
                      1153,
                      150,
                      2556,
                      3626,
                      2423,
                      4375,
                      1767,
                      2647,
                      3491,
                      1026,
                      756,
                      2950,
                      1026,
                      4282,
                      3989,
                      2153,
                      2976,
                      4499,
                      2001,
                      1374
                    ],
                    "coloraxis": "coloraxis",
                    "size": [
                      8,
                      4,
                      8,
                      3,
                      10,
                      17,
                      18,
                      14,
                      19,
                      6,
                      13,
                      11,
                      10,
                      9,
                      14,
                      12,
                      13,
                      3,
                      5,
                      10,
                      15,
                      11,
                      3,
                      3,
                      9,
                      15,
                      13,
                      14,
                      19,
                      8,
                      4,
                      3,
                      7,
                      14,
                      8,
                      6,
                      18,
                      6,
                      7,
                      15,
                      15,
                      13,
                      11,
                      4,
                      6,
                      5,
                      14,
                      5,
                      4,
                      9,
                      7,
                      2,
                      14,
                      13,
                      7,
                      7,
                      2,
                      17,
                      5,
                      7,
                      10,
                      13,
                      13,
                      12,
                      11,
                      10,
                      14,
                      15,
                      10,
                      12,
                      4,
                      4,
                      15,
                      4,
                      16,
                      14,
                      8,
                      8,
                      11,
                      15,
                      5,
                      2,
                      16,
                      15,
                      6,
                      15,
                      6,
                      14,
                      15,
                      2,
                      2,
                      12,
                      2,
                      16,
                      14,
                      7,
                      11,
                      15,
                      4,
                      6
                    ],
                    "sizemode": "area",
                    "sizeref": 0.0475,
                    "symbol": "circle"
                  },
                  "mode": "markers",
                  "name": "",
                  "orientation": "v",
                  "showlegend": false,
                  "type": "scatter",
                  "x": [
                    20,
                    134.5,
                    80.5,
                    42,
                    19,
                    18,
                    21.5,
                    32.5,
                    34,
                    99,
                    37.50001525878906,
                    28.5,
                    63,
                    53.999969482421875,
                    21.500003814697266,
                    25.49999237060547,
                    66.00001525878906,
                    115,
                    62,
                    42.5,
                    21.5,
                    28.5,
                    56,
                    77.99996948242188,
                    54.5,
                    16,
                    114.5,
                    26,
                    31.49993896484375,
                    46.5,
                    57.5,
                    114,
                    45,
                    34.5,
                    25,
                    25.5,
                    26,
                    72,
                    53,
                    16.499996185302734,
                    46,
                    60.000003814697266,
                    70,
                    75.5,
                    89.5,
                    50.5,
                    36.5,
                    32.5,
                    59,
                    38.5,
                    30.5,
                    126.5,
                    72,
                    31.5,
                    27,
                    28.5,
                    63,
                    24,
                    35.50001525878906,
                    42.5,
                    60,
                    66,
                    49.5,
                    75,
                    71.50001525878906,
                    61.5,
                    25,
                    38.5,
                    34.49999237060547,
                    37.5,
                    44.5,
                    65,
                    33.00001525878906,
                    75.5,
                    22,
                    47,
                    24.5,
                    45,
                    61.5,
                    35.5,
                    57,
                    62.5,
                    41,
                    35.5,
                    18,
                    32,
                    53.5,
                    18.500003814697266,
                    13,
                    162.5,
                    130,
                    35,
                    178.5,
                    19.49999237060547,
                    30.50000762939453,
                    44.5,
                    21.5,
                    19.49999237060547,
                    35,
                    56
                  ],
                  "xaxis": "x",
                  "y": [
                    24.148353576660156,
                    153.2913055419922,
                    49.927268981933594,
                    46.67476272583008,
                    20.10332489013672,
                    null,
                    null,
                    null,
                    null,
                    112.13603973388672,
                    39.88655471801758,
                    31.682218551635742,
                    82.13810729980469,
                    57.18043518066406,
                    10.287334442138672,
                    null,
                    null,
                    120.47237396240234,
                    69.27682495117188,
                    32.54208755493164,
                    null,
                    35.79349136352539,
                    69.99494934082031,
                    75.73185729980469,
                    77.27835845947266,
                    11.15491771697998,
                    72.0167007446289,
                    24.25522804260254,
                    null,
                    65.36689758300781,
                    82.88285064697266,
                    103.62651824951172,
                    56.07149124145508,
                    null,
                    31.439462661743164,
                    19.551496505737305,
                    null,
                    81.84700012207031,
                    40.695892333984375,
                    null,
                    null,
                    null,
                    67.4765625,
                    104.20452880859375,
                    100.90126037597656,
                    68.19722747802734,
                    null,
                    49.99321365356445,
                    60.97907257080078,
                    42.35173797607422,
                    34.182064056396484,
                    131.636474609375,
                    null,
                    31.440032958984375,
                    34.344398498535156,
                    28.090747833251953,
                    65.62647247314453,
                    null,
                    37.66493606567383,
                    42.06154251098633,
                    100.70108795166016,
                    79.1380844116211,
                    61.97075271606445,
                    91.10929870605469,
                    74.126220703125,
                    47.32501983642578,
                    15.78312873840332,
                    null,
                    21.211071014404297,
                    34.34882736206055,
                    59.2175407409668,
                    83.03174591064453,
                    null,
                    93.24401092529297,
                    null,
                    null,
                    29.887514114379883,
                    42.283660888671875,
                    49.9312744140625,
                    null,
                    67.22850036621094,
                    63.371925354003906,
                    null,
                    null,
                    55.10746383666992,
                    22.751779556274414,
                    62.62516403198242,
                    8.224783897399902,
                    null,
                    166.74374389648438,
                    132.7952880859375,
                    30.261699676513672,
                    181.85813903808594,
                    null,
                    null,
                    43.72695541381836,
                    20.172359466552734,
                    null,
                    70.58116149902344,
                    59.9042854309082
                  ],
                  "yaxis": "y"
                },
                {
                  "hovertemplate": "x=%{x}<br>y=%{y}<extra></extra>",
                  "legendgroup": "",
                  "line": {
                    "color": "#636efa",
                    "dash": "solid"
                  },
                  "marker": {
                    "symbol": "circle"
                  },
                  "mode": "lines",
                  "name": "",
                  "orientation": "v",
                  "showlegend": false,
                  "type": "scatter",
                  "x": [
                    13,
                    16,
                    16.499996185302734,
                    18,
                    18,
                    18.500003814697266,
                    19,
                    19.49999237060547,
                    19.49999237060547,
                    20,
                    21.5,
                    21.5,
                    21.5,
                    21.500003814697266,
                    22,
                    24,
                    24.5,
                    25,
                    25,
                    25.49999237060547,
                    25.5,
                    26,
                    26,
                    27,
                    28.5,
                    28.5,
                    28.5,
                    30.5,
                    30.50000762939453,
                    31.49993896484375,
                    31.5,
                    32,
                    32.5,
                    32.5,
                    33.00001525878906,
                    34,
                    34.49999237060547,
                    34.5,
                    35,
                    35,
                    35.5,
                    35.5,
                    35.50001525878906,
                    36.5,
                    37.5,
                    37.50001525878906,
                    38.5,
                    38.5,
                    41,
                    42,
                    42.5,
                    42.5,
                    44.5,
                    44.5,
                    45,
                    45,
                    46,
                    46.5,
                    47,
                    49.5,
                    50.5,
                    53,
                    53.5,
                    53.999969482421875,
                    54.5,
                    56,
                    56,
                    57,
                    57.5,
                    59,
                    60,
                    60.000003814697266,
                    61.5,
                    61.5,
                    62,
                    62.5,
                    63,
                    63,
                    65,
                    66,
                    66.00001525878906,
                    70,
                    71.50001525878906,
                    72,
                    72,
                    75,
                    75.5,
                    75.5,
                    77.99996948242188,
                    80.5,
                    89.5,
                    99,
                    114,
                    114.5,
                    115,
                    126.5,
                    130,
                    134.5,
                    162.5,
                    178.5
                  ],
                  "xaxis": "x",
                  "y": [
                    13,
                    16,
                    16.499996185302734,
                    18,
                    18,
                    18.500003814697266,
                    19,
                    19.49999237060547,
                    19.49999237060547,
                    20,
                    21.5,
                    21.5,
                    21.5,
                    21.500003814697266,
                    22,
                    24,
                    24.5,
                    25,
                    25,
                    25.49999237060547,
                    25.5,
                    26,
                    26,
                    27,
                    28.5,
                    28.5,
                    28.5,
                    30.5,
                    30.50000762939453,
                    31.49993896484375,
                    31.5,
                    32,
                    32.5,
                    32.5,
                    33.00001525878906,
                    34,
                    34.49999237060547,
                    34.5,
                    35,
                    35,
                    35.5,
                    35.5,
                    35.50001525878906,
                    36.5,
                    37.5,
                    37.50001525878906,
                    38.5,
                    38.5,
                    41,
                    42,
                    42.5,
                    42.5,
                    44.5,
                    44.5,
                    45,
                    45,
                    46,
                    46.5,
                    47,
                    49.5,
                    50.5,
                    53,
                    53.5,
                    53.999969482421875,
                    54.5,
                    56,
                    56,
                    57,
                    57.5,
                    59,
                    60,
                    60.000003814697266,
                    61.5,
                    61.5,
                    62,
                    62.5,
                    63,
                    63,
                    65,
                    66,
                    66.00001525878906,
                    70,
                    71.50001525878906,
                    72,
                    72,
                    75,
                    75.5,
                    75.5,
                    77.99996948242188,
                    80.5,
                    89.5,
                    99,
                    114,
                    114.5,
                    115,
                    126.5,
                    130,
                    134.5,
                    162.5,
                    178.5
                  ],
                  "yaxis": "y"
                }
              ],
              "layout": {
                "coloraxis": {
                  "colorbar": {
                    "title": {
                      "text": "Model Dimension"
                    }
                  },
                  "colorscale": [
                    [
                      0,
                      "#0d0887"
                    ],
                    [
                      0.1111111111111111,
                      "#46039f"
                    ],
                    [
                      0.2222222222222222,
                      "#7201a8"
                    ],
                    [
                      0.3333333333333333,
                      "#9c179e"
                    ],
                    [
                      0.4444444444444444,
                      "#bd3786"
                    ],
                    [
                      0.5555555555555556,
                      "#d8576b"
                    ],
                    [
                      0.6666666666666666,
                      "#ed7953"
                    ],
                    [
                      0.7777777777777778,
                      "#fb9f3a"
                    ],
                    [
                      0.8888888888888888,
                      "#fdca26"
                    ],
                    [
                      1,
                      "#f0f921"
                    ]
                  ]
                },
                "height": 800,
                "legend": {
                  "itemsizing": "constant",
                  "title": {
                    "text": "Legend"
                  },
                  "tracegroupgap": 0
                },
                "template": {
                  "data": {
                    "bar": [
                      {
                        "error_x": {
                          "color": "#2a3f5f"
                        },
                        "error_y": {
                          "color": "#2a3f5f"
                        },
                        "marker": {
                          "line": {
                            "color": "#E5ECF6",
                            "width": 0.5
                          },
                          "pattern": {
                            "fillmode": "overlay",
                            "size": 10,
                            "solidity": 0.2
                          }
                        },
                        "type": "bar"
                      }
                    ],
                    "barpolar": [
                      {
                        "marker": {
                          "line": {
                            "color": "#E5ECF6",
                            "width": 0.5
                          },
                          "pattern": {
                            "fillmode": "overlay",
                            "size": 10,
                            "solidity": 0.2
                          }
                        },
                        "type": "barpolar"
                      }
                    ],
                    "carpet": [
                      {
                        "aaxis": {
                          "endlinecolor": "#2a3f5f",
                          "gridcolor": "white",
                          "linecolor": "white",
                          "minorgridcolor": "white",
                          "startlinecolor": "#2a3f5f"
                        },
                        "baxis": {
                          "endlinecolor": "#2a3f5f",
                          "gridcolor": "white",
                          "linecolor": "white",
                          "minorgridcolor": "white",
                          "startlinecolor": "#2a3f5f"
                        },
                        "type": "carpet"
                      }
                    ],
                    "choropleth": [
                      {
                        "colorbar": {
                          "outlinewidth": 0,
                          "ticks": ""
                        },
                        "type": "choropleth"
                      }
                    ],
                    "contour": [
                      {
                        "colorbar": {
                          "outlinewidth": 0,
                          "ticks": ""
                        },
                        "colorscale": [
                          [
                            0,
                            "#0d0887"
                          ],
                          [
                            0.1111111111111111,
                            "#46039f"
                          ],
                          [
                            0.2222222222222222,
                            "#7201a8"
                          ],
                          [
                            0.3333333333333333,
                            "#9c179e"
                          ],
                          [
                            0.4444444444444444,
                            "#bd3786"
                          ],
                          [
                            0.5555555555555556,
                            "#d8576b"
                          ],
                          [
                            0.6666666666666666,
                            "#ed7953"
                          ],
                          [
                            0.7777777777777778,
                            "#fb9f3a"
                          ],
                          [
                            0.8888888888888888,
                            "#fdca26"
                          ],
                          [
                            1,
                            "#f0f921"
                          ]
                        ],
                        "type": "contour"
                      }
                    ],
                    "contourcarpet": [
                      {
                        "colorbar": {
                          "outlinewidth": 0,
                          "ticks": ""
                        },
                        "type": "contourcarpet"
                      }
                    ],
                    "heatmap": [
                      {
                        "colorbar": {
                          "outlinewidth": 0,
                          "ticks": ""
                        },
                        "colorscale": [
                          [
                            0,
                            "#0d0887"
                          ],
                          [
                            0.1111111111111111,
                            "#46039f"
                          ],
                          [
                            0.2222222222222222,
                            "#7201a8"
                          ],
                          [
                            0.3333333333333333,
                            "#9c179e"
                          ],
                          [
                            0.4444444444444444,
                            "#bd3786"
                          ],
                          [
                            0.5555555555555556,
                            "#d8576b"
                          ],
                          [
                            0.6666666666666666,
                            "#ed7953"
                          ],
                          [
                            0.7777777777777778,
                            "#fb9f3a"
                          ],
                          [
                            0.8888888888888888,
                            "#fdca26"
                          ],
                          [
                            1,
                            "#f0f921"
                          ]
                        ],
                        "type": "heatmap"
                      }
                    ],
                    "heatmapgl": [
                      {
                        "colorbar": {
                          "outlinewidth": 0,
                          "ticks": ""
                        },
                        "colorscale": [
                          [
                            0,
                            "#0d0887"
                          ],
                          [
                            0.1111111111111111,
                            "#46039f"
                          ],
                          [
                            0.2222222222222222,
                            "#7201a8"
                          ],
                          [
                            0.3333333333333333,
                            "#9c179e"
                          ],
                          [
                            0.4444444444444444,
                            "#bd3786"
                          ],
                          [
                            0.5555555555555556,
                            "#d8576b"
                          ],
                          [
                            0.6666666666666666,
                            "#ed7953"
                          ],
                          [
                            0.7777777777777778,
                            "#fb9f3a"
                          ],
                          [
                            0.8888888888888888,
                            "#fdca26"
                          ],
                          [
                            1,
                            "#f0f921"
                          ]
                        ],
                        "type": "heatmapgl"
                      }
                    ],
                    "histogram": [
                      {
                        "marker": {
                          "pattern": {
                            "fillmode": "overlay",
                            "size": 10,
                            "solidity": 0.2
                          }
                        },
                        "type": "histogram"
                      }
                    ],
                    "histogram2d": [
                      {
                        "colorbar": {
                          "outlinewidth": 0,
                          "ticks": ""
                        },
                        "colorscale": [
                          [
                            0,
                            "#0d0887"
                          ],
                          [
                            0.1111111111111111,
                            "#46039f"
                          ],
                          [
                            0.2222222222222222,
                            "#7201a8"
                          ],
                          [
                            0.3333333333333333,
                            "#9c179e"
                          ],
                          [
                            0.4444444444444444,
                            "#bd3786"
                          ],
                          [
                            0.5555555555555556,
                            "#d8576b"
                          ],
                          [
                            0.6666666666666666,
                            "#ed7953"
                          ],
                          [
                            0.7777777777777778,
                            "#fb9f3a"
                          ],
                          [
                            0.8888888888888888,
                            "#fdca26"
                          ],
                          [
                            1,
                            "#f0f921"
                          ]
                        ],
                        "type": "histogram2d"
                      }
                    ],
                    "histogram2dcontour": [
                      {
                        "colorbar": {
                          "outlinewidth": 0,
                          "ticks": ""
                        },
                        "colorscale": [
                          [
                            0,
                            "#0d0887"
                          ],
                          [
                            0.1111111111111111,
                            "#46039f"
                          ],
                          [
                            0.2222222222222222,
                            "#7201a8"
                          ],
                          [
                            0.3333333333333333,
                            "#9c179e"
                          ],
                          [
                            0.4444444444444444,
                            "#bd3786"
                          ],
                          [
                            0.5555555555555556,
                            "#d8576b"
                          ],
                          [
                            0.6666666666666666,
                            "#ed7953"
                          ],
                          [
                            0.7777777777777778,
                            "#fb9f3a"
                          ],
                          [
                            0.8888888888888888,
                            "#fdca26"
                          ],
                          [
                            1,
                            "#f0f921"
                          ]
                        ],
                        "type": "histogram2dcontour"
                      }
                    ],
                    "mesh3d": [
                      {
                        "colorbar": {
                          "outlinewidth": 0,
                          "ticks": ""
                        },
                        "type": "mesh3d"
                      }
                    ],
                    "parcoords": [
                      {
                        "line": {
                          "colorbar": {
                            "outlinewidth": 0,
                            "ticks": ""
                          }
                        },
                        "type": "parcoords"
                      }
                    ],
                    "pie": [
                      {
                        "automargin": true,
                        "type": "pie"
                      }
                    ],
                    "scatter": [
                      {
                        "fillpattern": {
                          "fillmode": "overlay",
                          "size": 10,
                          "solidity": 0.2
                        },
                        "type": "scatter"
                      }
                    ],
                    "scatter3d": [
                      {
                        "line": {
                          "colorbar": {
                            "outlinewidth": 0,
                            "ticks": ""
                          }
                        },
                        "marker": {
                          "colorbar": {
                            "outlinewidth": 0,
                            "ticks": ""
                          }
                        },
                        "type": "scatter3d"
                      }
                    ],
                    "scattercarpet": [
                      {
                        "marker": {
                          "colorbar": {
                            "outlinewidth": 0,
                            "ticks": ""
                          }
                        },
                        "type": "scattercarpet"
                      }
                    ],
                    "scattergeo": [
                      {
                        "marker": {
                          "colorbar": {
                            "outlinewidth": 0,
                            "ticks": ""
                          }
                        },
                        "type": "scattergeo"
                      }
                    ],
                    "scattergl": [
                      {
                        "marker": {
                          "colorbar": {
                            "outlinewidth": 0,
                            "ticks": ""
                          }
                        },
                        "type": "scattergl"
                      }
                    ],
                    "scattermapbox": [
                      {
                        "marker": {
                          "colorbar": {
                            "outlinewidth": 0,
                            "ticks": ""
                          }
                        },
                        "type": "scattermapbox"
                      }
                    ],
                    "scatterpolar": [
                      {
                        "marker": {
                          "colorbar": {
                            "outlinewidth": 0,
                            "ticks": ""
                          }
                        },
                        "type": "scatterpolar"
                      }
                    ],
                    "scatterpolargl": [
                      {
                        "marker": {
                          "colorbar": {
                            "outlinewidth": 0,
                            "ticks": ""
                          }
                        },
                        "type": "scatterpolargl"
                      }
                    ],
                    "scatterternary": [
                      {
                        "marker": {
                          "colorbar": {
                            "outlinewidth": 0,
                            "ticks": ""
                          }
                        },
                        "type": "scatterternary"
                      }
                    ],
                    "surface": [
                      {
                        "colorbar": {
                          "outlinewidth": 0,
                          "ticks": ""
                        },
                        "colorscale": [
                          [
                            0,
                            "#0d0887"
                          ],
                          [
                            0.1111111111111111,
                            "#46039f"
                          ],
                          [
                            0.2222222222222222,
                            "#7201a8"
                          ],
                          [
                            0.3333333333333333,
                            "#9c179e"
                          ],
                          [
                            0.4444444444444444,
                            "#bd3786"
                          ],
                          [
                            0.5555555555555556,
                            "#d8576b"
                          ],
                          [
                            0.6666666666666666,
                            "#ed7953"
                          ],
                          [
                            0.7777777777777778,
                            "#fb9f3a"
                          ],
                          [
                            0.8888888888888888,
                            "#fdca26"
                          ],
                          [
                            1,
                            "#f0f921"
                          ]
                        ],
                        "type": "surface"
                      }
                    ],
                    "table": [
                      {
                        "cells": {
                          "fill": {
                            "color": "#EBF0F8"
                          },
                          "line": {
                            "color": "white"
                          }
                        },
                        "header": {
                          "fill": {
                            "color": "#C8D4E3"
                          },
                          "line": {
                            "color": "white"
                          }
                        },
                        "type": "table"
                      }
                    ]
                  },
                  "layout": {
                    "annotationdefaults": {
                      "arrowcolor": "#2a3f5f",
                      "arrowhead": 0,
                      "arrowwidth": 1
                    },
                    "autotypenumbers": "strict",
                    "coloraxis": {
                      "colorbar": {
                        "outlinewidth": 0,
                        "ticks": ""
                      }
                    },
                    "colorscale": {
                      "diverging": [
                        [
                          0,
                          "#8e0152"
                        ],
                        [
                          0.1,
                          "#c51b7d"
                        ],
                        [
                          0.2,
                          "#de77ae"
                        ],
                        [
                          0.3,
                          "#f1b6da"
                        ],
                        [
                          0.4,
                          "#fde0ef"
                        ],
                        [
                          0.5,
                          "#f7f7f7"
                        ],
                        [
                          0.6,
                          "#e6f5d0"
                        ],
                        [
                          0.7,
                          "#b8e186"
                        ],
                        [
                          0.8,
                          "#7fbc41"
                        ],
                        [
                          0.9,
                          "#4d9221"
                        ],
                        [
                          1,
                          "#276419"
                        ]
                      ],
                      "sequential": [
                        [
                          0,
                          "#0d0887"
                        ],
                        [
                          0.1111111111111111,
                          "#46039f"
                        ],
                        [
                          0.2222222222222222,
                          "#7201a8"
                        ],
                        [
                          0.3333333333333333,
                          "#9c179e"
                        ],
                        [
                          0.4444444444444444,
                          "#bd3786"
                        ],
                        [
                          0.5555555555555556,
                          "#d8576b"
                        ],
                        [
                          0.6666666666666666,
                          "#ed7953"
                        ],
                        [
                          0.7777777777777778,
                          "#fb9f3a"
                        ],
                        [
                          0.8888888888888888,
                          "#fdca26"
                        ],
                        [
                          1,
                          "#f0f921"
                        ]
                      ],
                      "sequentialminus": [
                        [
                          0,
                          "#0d0887"
                        ],
                        [
                          0.1111111111111111,
                          "#46039f"
                        ],
                        [
                          0.2222222222222222,
                          "#7201a8"
                        ],
                        [
                          0.3333333333333333,
                          "#9c179e"
                        ],
                        [
                          0.4444444444444444,
                          "#bd3786"
                        ],
                        [
                          0.5555555555555556,
                          "#d8576b"
                        ],
                        [
                          0.6666666666666666,
                          "#ed7953"
                        ],
                        [
                          0.7777777777777778,
                          "#fb9f3a"
                        ],
                        [
                          0.8888888888888888,
                          "#fdca26"
                        ],
                        [
                          1,
                          "#f0f921"
                        ]
                      ]
                    },
                    "colorway": [
                      "#636efa",
                      "#EF553B",
                      "#00cc96",
                      "#ab63fa",
                      "#FFA15A",
                      "#19d3f3",
                      "#FF6692",
                      "#B6E880",
                      "#FF97FF",
                      "#FECB52"
                    ],
                    "font": {
                      "color": "#2a3f5f"
                    },
                    "geo": {
                      "bgcolor": "white",
                      "lakecolor": "white",
                      "landcolor": "#E5ECF6",
                      "showlakes": true,
                      "showland": true,
                      "subunitcolor": "white"
                    },
                    "hoverlabel": {
                      "align": "left"
                    },
                    "hovermode": "closest",
                    "mapbox": {
                      "style": "light"
                    },
                    "paper_bgcolor": "white",
                    "plot_bgcolor": "#E5ECF6",
                    "polar": {
                      "angularaxis": {
                        "gridcolor": "white",
                        "linecolor": "white",
                        "ticks": ""
                      },
                      "bgcolor": "#E5ECF6",
                      "radialaxis": {
                        "gridcolor": "white",
                        "linecolor": "white",
                        "ticks": ""
                      }
                    },
                    "scene": {
                      "xaxis": {
                        "backgroundcolor": "#E5ECF6",
                        "gridcolor": "white",
                        "gridwidth": 2,
                        "linecolor": "white",
                        "showbackground": true,
                        "ticks": "",
                        "zerolinecolor": "white"
                      },
                      "yaxis": {
                        "backgroundcolor": "#E5ECF6",
                        "gridcolor": "white",
                        "gridwidth": 2,
                        "linecolor": "white",
                        "showbackground": true,
                        "ticks": "",
                        "zerolinecolor": "white"
                      },
                      "zaxis": {
                        "backgroundcolor": "#E5ECF6",
                        "gridcolor": "white",
                        "gridwidth": 2,
                        "linecolor": "white",
                        "showbackground": true,
                        "ticks": "",
                        "zerolinecolor": "white"
                      }
                    },
                    "shapedefaults": {
                      "line": {
                        "color": "#2a3f5f"
                      }
                    },
                    "ternary": {
                      "aaxis": {
                        "gridcolor": "white",
                        "linecolor": "white",
                        "ticks": ""
                      },
                      "baxis": {
                        "gridcolor": "white",
                        "linecolor": "white",
                        "ticks": ""
                      },
                      "bgcolor": "#E5ECF6",
                      "caxis": {
                        "gridcolor": "white",
                        "linecolor": "white",
                        "ticks": ""
                      }
                    },
                    "title": {
                      "x": 0.05
                    },
                    "xaxis": {
                      "automargin": true,
                      "gridcolor": "white",
                      "linecolor": "white",
                      "ticks": "",
                      "title": {
                        "standoff": 15
                      },
                      "zerolinecolor": "white",
                      "zerolinewidth": 2
                    },
                    "yaxis": {
                      "automargin": true,
                      "gridcolor": "white",
                      "linecolor": "white",
                      "ticks": "",
                      "title": {
                        "standoff": 15
                      },
                      "zerolinecolor": "white",
                      "zerolinewidth": 2
                    }
                  }
                },
                "title": {
                  "text": "Scatter Plot of True Lambda vs Lambdahat"
                },
                "width": 800,
                "xaxis": {
                  "anchor": "y",
                  "domain": [
                    0,
                    1
                  ],
                  "title": {
                    "text": "True lambda"
                  }
                },
                "yaxis": {
                  "anchor": "x",
                  "domain": [
                    0,
                    1
                  ],
                  "title": {
                    "text": "Lambdahat"
                  }
                }
              }
            }
          },
          "metadata": {},
          "output_type": "display_data"
        }
      ],
      "source": [
        "import plotly.express as px\n",
        "\n",
        "fig = px.scatter(\n",
        "    df, \n",
        "    x=\"true_lambda\", \n",
        "    y=\"lambdahat\", \n",
        "    color=\"model_dim\",\n",
        "    # color=\"num_layer\",\n",
        "    size=\"num_layer\",\n",
        "    # size=\"true_rank\",\n",
        "    labels={\n",
        "        \"true_lambda\": \"True lambda\",\n",
        "        \"lambdahat\": \"lambdahat\",\n",
        "        \"model_dim\": \"Model Dimension\",\n",
        "        \"num_layer\": \"Number of Layers\",\n",
        "        \"true_rank\": \"True Rank\"\n",
        "    },\n",
        "    title=\"Scatter Plot of True Lambda vs Lambdahat\"\n",
        ")\n",
        "\n",
        "# Add the y=x line\n",
        "sorted_true_lambda = sorted(df[\"true_lambda\"])\n",
        "fig.add_trace(\n",
        "    px.line(\n",
        "        x=sorted_true_lambda, \n",
        "        y=sorted_true_lambda\n",
        "    ).data[0]\n",
        ")\n",
        "\n",
        "# Update the layout\n",
        "fig.update_layout(\n",
        "    xaxis_title=\"True lambda\",\n",
        "    yaxis_title=\"Lambdahat\",\n",
        "    legend_title=\"Legend\",\n",
        "    width=800,\n",
        "    height=800\n",
        ")\n"
      ]
    },
    {
      "cell_type": "code",
      "execution_count": 111,
      "metadata": {
        "id": "E5H1lUbvTPzS"
      },
      "outputs": [
        {
          "data": {
            "text/plain": [
              "Text(0, 0.5, 'metric')"
            ]
          },
          "execution_count": 111,
          "metadata": {},
          "output_type": "execute_result"
        },
        {
          "data": {
            "image/png": "[encoded data removed]",
            "text/plain": [
              "<Figure size 800x800 with 1 Axes>"
            ]
          },
          "metadata": {},
          "output_type": "display_data"
        }
      ],
      "source": [
        "# df = df_data[~df_data[\"is_true_param\"]]\n",
        "df = df_data\n",
        "df = df[df[\"sgd_step_count\"] == 400]\n",
        "fig, ax = plt.subplots(figsize=(8, 8))\n",
        "ax.scatter(df[\"true_lambda\"], df[\"lambdahat\"], s=8, label=\"lambdahat\")\n",
        "ax.scatter(df[\"true_lambda\"], df[\"true_rank\"], s=8, label=\"true_rank\")\n",
        "# ax.scatter(df[\"true_lambda\"], df[\"model_dim\"] / 2, s=8, label=\"d / 2\")\n",
        "sorted_true_lambda = sorted(df[\"true_lambda\"])\n",
        "ax.plot(sorted_true_lambda, sorted_true_lambda, label=\"true_lambda\", linestyle=\"dashed\", color=\"red\", alpha=0.5)\n",
        "ax.legend()\n",
        "\n",
        "ax.set_xlabel(\"True lambda\")\n",
        "ax.set_ylabel(\"metric\")\n",
        "# ax.set_title(\"True vs estimated lambda\");"
      ]
    },
    {
      "cell_type": "markdown",
      "metadata": {
        "id": "kdlofnml7NK0"
      },
      "source": [
        "---\n",
        "# MISC + Tests\n",
        "---"
      ]
    },
    {
      "cell_type": "code",
      "execution_count": 142,
      "metadata": {
        "colab": {
          "base_uri": "https://localhost:8080/"
        },
        "id": "jp_nXWLg32wi",
        "outputId": "e4d0c503-54c9-455a-fc10-a5f1381877e7"
      },
      "outputs": [
        {
          "data": {
            "text/plain": [
              "True"
            ]
          },
          "execution_count": 142,
          "metadata": {},
          "output_type": "execute_result"
        }
      ],
      "source": [
        "np.allclose(model.apply(true_param, x_train), x_train @ true_matrix, atol=1e-5)"
      ]
    },
    {
      "cell_type": "code",
      "execution_count": 143,
      "metadata": {
        "colab": {
          "base_uri": "https://localhost:8080/"
        },
        "id": "u25L3AZZrAzj",
        "outputId": "a479a841-d67f-45c0-b6a7-42ae2005736d"
      },
      "outputs": [
        {
          "data": {
            "text/plain": [
              "(array([1]), array([100]))"
            ]
          },
          "execution_count": 143,
          "metadata": {},
          "output_type": "execute_result"
        }
      ],
      "source": [
        "\n",
        "# a for loop to randomly generate Ms and see how many subset passes _condition\n",
        "passes = {}\n",
        "for _ in range(100):\n",
        "    Ms = np.random.randint(0, 100, size=10)\n",
        "    if tuple(Ms) in passes:\n",
        "        continue\n",
        "    passes[tuple(Ms)] = []\n",
        "    for indices in generate_indices_subsets(len(Ms)):\n",
        "        if _condition(indices, Ms):\n",
        "            passes[tuple(Ms)].append(indices)\n",
        "\n",
        "np.unique([len(val) for val in passes.values()], return_counts=True)"
      ]
    },
    {
      "cell_type": "code",
      "execution_count": 12,
      "metadata": {},
      "outputs": [
        {
          "data": {
            "text/plain": [
              "(array([1]), array([100]))"
            ]
          },
          "execution_count": 12,
          "metadata": {},
          "output_type": "execute_result"
        }
      ],
      "source": [
        "# a better search method\n",
        "def generate_candidate_indices(intlist):\n",
        "    argsort_indices = np.argsort(intlist)\n",
        "    for i in range(1, len(intlist) + 1):\n",
        "        yield argsort_indices[:i]\n",
        "\n",
        "passes = {}\n",
        "for _ in range(100):\n",
        "    Ms = np.random.randint(0, 100, size=10)\n",
        "    if tuple(Ms) in passes:\n",
        "        continue\n",
        "    passes[tuple(Ms)] = []\n",
        "    for indices in generate_candidate_indices(Ms):\n",
        "        if _condition(indices, Ms):\n",
        "            passes[tuple(Ms)].append(indices)\n",
        "\n",
        "np.unique([len(val) for val in passes.values()], return_counts=True)\n",
        "\n"
      ]
    },
    {
      "cell_type": "code",
      "execution_count": 143,
      "metadata": {
        "id": "nvDv23BvG8JP"
      },
      "outputs": [],
      "source": [
        "A = np.random.rand(5, 4)  # Example matrix\n",
        "reduction_amount = 1    # Amount by which to reduce the rank\n",
        "\n",
        "np.linalg.matrix_rank(reduce_matrix_rank(A, reduction_amount))\n"
      ]
    },
    {
      "cell_type": "code",
      "execution_count": 220,
      "metadata": {},
      "outputs": [
        {
          "data": {
            "text/plain": [
              "{'deep_linear_network/linear': {'w': Array([1.7708387e+00, 1.4593210e+00, 1.0171766e+00, 8.3989543e-01,\n",
              "         6.2709671e-01, 6.5009992e-08], dtype=float32)},\n",
              " 'deep_linear_network/linear_1': {'w': Array([1.4080783 , 1.2414557 , 1.0944417 , 0.917447  , 0.80957   ,\n",
              "         0.59345967, 0.58410025, 0.36330625, 0.3236762 , 0.08388053],      dtype=float32)},\n",
              " 'deep_linear_network/linear_2': {'w': Array([1.9608408 , 1.8520241 , 1.755757  , 1.5530931 , 1.4234898 ,\n",
              "         1.2377415 , 1.1145256 , 0.8728106 , 0.8477888 , 0.7129344 ,\n",
              "         0.53934604], dtype=float32)},\n",
              " 'deep_linear_network/linear_3': {'w': Array([1.4622892e+00, 1.3065944e+00, 1.2019567e+00, 1.1398048e+00,\n",
              "         1.1775472e-07, 8.3725773e-08, 6.4771783e-08, 5.3937661e-08,\n",
              "         4.3606175e-08, 3.6644412e-08, 3.0616370e-08, 1.8090196e-08,\n",
              "         1.4036087e-08, 8.4396081e-09], dtype=float32)},\n",
              " 'deep_linear_network/linear_4': {'w': Array([1.753174  , 1.6017103 , 1.387854  , 1.1899551 , 1.0621687 ,\n",
              "         0.9609756 , 0.8695688 , 0.80742645, 0.58637524, 0.45325348,\n",
              "         0.3810143 , 0.36898598, 0.1367326 , 0.13257195], dtype=float32)},\n",
              " 'deep_linear_network/linear_5': {'w': Array([1.7569607 , 1.6484993 , 1.3908753 , 1.2985876 , 1.2460899 ,\n",
              "         1.1538969 , 1.078067  , 0.9969712 , 0.9092823 , 0.7602503 ,\n",
              "         0.70874184, 0.6404825 , 0.5431605 , 0.49646363, 0.46832508,\n",
              "         0.3579531 , 0.25027487], dtype=float32)}}"
            ]
          },
          "execution_count": 220,
          "metadata": {},
          "output_type": "execute_result"
        }
      ],
      "source": [
        "\n",
        "def get_singular_values(matrix):\n",
        "    \"\"\"\n",
        "    Return the singular values of a matrix.\n",
        "\n",
        "    :param matrix: Input matrix.\n",
        "    :return: A list of singular values.\n",
        "    \"\"\"\n",
        "    # Perform Singular Value Decomposition\n",
        "    U, S, Vh = jnp.linalg.svd(matrix, full_matrices=False)\n",
        "    \n",
        "    # S contains the singular values\n",
        "    return S\n",
        "\n",
        "jtree.tree_map(lambda x: get_singular_values(x), true_param)"
      ]
    },
    {
      "cell_type": "code",
      "execution_count": 20,
      "metadata": {},
      "outputs": [
        {
          "data": {
            "text/plain": [
              "{'method': 'random', 'prop_rank_reduce': 0.2, 'mean': 0.0, 'std': 5.0}"
            ]
          },
          "execution_count": 20,
          "metadata": {},
          "output_type": "execute_result"
        }
      ],
      "source": [
        "true_param_config = {\n",
        "        \"method\": \"random\", # random / zero / rand_rank / rand_rank_sv\n",
        "        \"prop_rank_reduce\": 0.2, # rand_rank, proportion of matrices selected to have random rank. \n",
        "        \"mean\": 0.0, # rand_rank_sv, mean and std of gaussian to generate SV (singular values) \n",
        "        \"std\": 5.0, \n",
        "    }\n",
        "true_param_config"
      ]
    },
    {
      "cell_type": "code",
      "execution_count": null,
      "metadata": {},
      "outputs": [],
      "source": []
    }
  ],
  "metadata": {
    "colab": {
      "provenance": []
    },
    "kernelspec": {
      "display_name": "Python 3",
      "name": "python3"
    },
    "language_info": {
      "codemirror_mode": {
        "name": "ipython",
        "version": 3
      },
      "file_extension": ".py",
      "mimetype": "text/x-python",
      "name": "python",
      "nbconvert_exporter": "python",
      "pygments_lexer": "ipython3",
      "version": "3.11.3"
    }
  },
  "nbformat": 4,
  "nbformat_minor": 0
}
